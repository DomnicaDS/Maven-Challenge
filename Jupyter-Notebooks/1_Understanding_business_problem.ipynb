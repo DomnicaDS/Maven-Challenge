{
 "cells": [
  {
   "cell_type": "markdown",
   "metadata": {},
   "source": [
    "# 1. Understanding the business problem"
   ]
  },
  {
   "cell_type": "markdown",
   "metadata": {},
   "source": [
    "\n",
    "In the first phase of every data analysis project it is vital to understand your goal and the meaning of the business question without any assumptions or ambiguity. Starting from where you are, sometimes you need to ask for the question behind the question to understand where you want to be."
   ]
  },
  {
   "cell_type": "markdown",
   "metadata": {},
   "source": [
    "The <a href=\"https://www.mavenanalytics.io/data-playground\">Data Playground</a> recommends the following analysis: \n",
    "\n",
    "1. Can you spot any major differences in the Airbnb market between cities?\n",
    "\n",
    "2. Which attributes have the biggest influence in price?\n",
    "\n",
    "3. Are you able to identify any trends or seasonality in the review data?\n",
    "\n",
    "4. Which city offers a better value for travel?"
   ]
  },
  {
   "cell_type": "markdown",
   "metadata": {},
   "source": [
    "**Question 2: Which attributes have the biggest influence in price?**"
   ]
  },
  {
   "cell_type": "markdown",
   "metadata": {},
   "source": [
    "If we look into the influencing price factors, the starting point should include the followig attributes: \n",
    "* property type\n",
    "* room type\n",
    "* number of guests who can be accomodated \n",
    "* number of bedrooms \n",
    "* minimum nights per booking"
   ]
  },
  {
   "cell_type": "markdown",
   "metadata": {},
   "source": [
    "Do customer reviews influence the price? \n",
    "\n",
    "Look into properties with similar attributes and compare them by the reviews scores. "
   ]
  },
  {
   "cell_type": "markdown",
   "metadata": {},
   "source": [
    "Does the host characteristics influence the price? \n",
    "\n",
    "Look into properties with similar attributes and compare them by host experience and number of properties. "
   ]
  },
  {
   "cell_type": "markdown",
   "metadata": {},
   "source": [
    "*At this stage my goal is to choose one question to explore from the recommended. This will set the analysis path of my project for this challenge.*\n",
    "\n",
    "*I haven't explored the data yet, rather guided myself with the help of the data dictionary. This way I have identified the metrics I want to analyze.*"
   ]
  },
  {
   "cell_type": "markdown",
   "metadata": {},
   "source": [
    "*In a typical analysis project, the next step after seting a clear metic to analyze is to find potential data sources and gather data. However, this challenge starts with an already given dataset, so we'll \"skip\" the data collection step, I have downloaded the csv file from <a href=\"https://www.mavenanalytics.io/data-playground\">Data Playground</a>. We'll continue with exploratory analysis.*"
   ]
  },
  {
   "cell_type": "markdown",
   "metadata": {},
   "source": []
  },
  {
   "cell_type": "code",
   "execution_count": null,
   "metadata": {},
   "outputs": [],
   "source": []
  }
 ],
 "metadata": {
  "kernelspec": {
   "display_name": "Python 3",
   "language": "python",
   "name": "python3"
  },
  "language_info": {
   "codemirror_mode": {
    "name": "ipython",
    "version": 3
   },
   "file_extension": ".py",
   "mimetype": "text/x-python",
   "name": "python",
   "nbconvert_exporter": "python",
   "pygments_lexer": "ipython3",
   "version": "3.8.5"
  }
 },
 "nbformat": 4,
 "nbformat_minor": 4
}
