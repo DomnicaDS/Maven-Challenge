{
 "cells": [
  {
   "cell_type": "markdown",
   "metadata": {},
   "source": [
    "# 2. Data wrangling"
   ]
  },
  {
   "cell_type": "code",
   "execution_count": 1,
   "metadata": {},
   "outputs": [],
   "source": [
    "# import libraries \n",
    "\n",
    "import pandas as pd\n",
    "import numpy as np"
   ]
  },
  {
   "cell_type": "markdown",
   "metadata": {},
   "source": [
    "**Read data**"
   ]
  },
  {
   "cell_type": "code",
   "execution_count": 2,
   "metadata": {},
   "outputs": [
    {
     "name": "stderr",
     "output_type": "stream",
     "text": [
      "C:\\Users\\Domnica Maria\\anaconda3\\lib\\site-packages\\IPython\\core\\interactiveshell.py:3146: DtypeWarning: Columns (5,13) have mixed types.Specify dtype option on import or set low_memory=False.\n",
      "  has_raised = await self.run_ast_nodes(code_ast.body, cell_name,\n"
     ]
    }
   ],
   "source": [
    "#use pd to read csv file into a dataframe df\n",
    "\n",
    "path1 =r'C:\\\\Users\\Domnica Maria\\Documents\\1. PROJECTS\\Maven-Vacation-Challenge\\Airbnb Data\\Listings.csv'\n",
    "df = pd.read_csv(path1,encoding='latin1') \n",
    "\n",
    "#used the encoding latin1 to read this file as there are some special character in the file"
   ]
  },
  {
   "cell_type": "code",
   "execution_count": 3,
   "metadata": {},
   "outputs": [
    {
     "data": {
      "text/html": [
       "<div>\n",
       "<style scoped>\n",
       "    .dataframe tbody tr th:only-of-type {\n",
       "        vertical-align: middle;\n",
       "    }\n",
       "\n",
       "    .dataframe tbody tr th {\n",
       "        vertical-align: top;\n",
       "    }\n",
       "\n",
       "    .dataframe thead th {\n",
       "        text-align: right;\n",
       "    }\n",
       "</style>\n",
       "<table border=\"1\" class=\"dataframe\">\n",
       "  <thead>\n",
       "    <tr style=\"text-align: right;\">\n",
       "      <th></th>\n",
       "      <th>listing_id</th>\n",
       "      <th>name</th>\n",
       "      <th>host_id</th>\n",
       "      <th>host_since</th>\n",
       "      <th>host_location</th>\n",
       "      <th>host_response_time</th>\n",
       "      <th>host_response_rate</th>\n",
       "      <th>host_acceptance_rate</th>\n",
       "      <th>host_is_superhost</th>\n",
       "      <th>host_total_listings_count</th>\n",
       "      <th>...</th>\n",
       "      <th>minimum_nights</th>\n",
       "      <th>maximum_nights</th>\n",
       "      <th>review_scores_rating</th>\n",
       "      <th>review_scores_accuracy</th>\n",
       "      <th>review_scores_cleanliness</th>\n",
       "      <th>review_scores_checkin</th>\n",
       "      <th>review_scores_communication</th>\n",
       "      <th>review_scores_location</th>\n",
       "      <th>review_scores_value</th>\n",
       "      <th>instant_bookable</th>\n",
       "    </tr>\n",
       "  </thead>\n",
       "  <tbody>\n",
       "    <tr>\n",
       "      <th>0</th>\n",
       "      <td>281420</td>\n",
       "      <td>Beautiful Flat in le Village Montmartre, Paris</td>\n",
       "      <td>1466919</td>\n",
       "      <td>2011-12-03</td>\n",
       "      <td>Paris, Ile-de-France, France</td>\n",
       "      <td>NaN</td>\n",
       "      <td>NaN</td>\n",
       "      <td>NaN</td>\n",
       "      <td>f</td>\n",
       "      <td>1.0</td>\n",
       "      <td>...</td>\n",
       "      <td>2</td>\n",
       "      <td>1125</td>\n",
       "      <td>100.0</td>\n",
       "      <td>10.0</td>\n",
       "      <td>10.0</td>\n",
       "      <td>10.0</td>\n",
       "      <td>10.0</td>\n",
       "      <td>10.0</td>\n",
       "      <td>10.0</td>\n",
       "      <td>f</td>\n",
       "    </tr>\n",
       "    <tr>\n",
       "      <th>1</th>\n",
       "      <td>3705183</td>\n",
       "      <td>39 mÃÂ² Paris (Sacre CÃ",
       "âur)</td>\n",
       "      <td>10328771</td>\n",
       "      <td>2013-11-29</td>\n",
       "      <td>Paris, Ile-de-France, France</td>\n",
       "      <td>NaN</td>\n",
       "      <td>NaN</td>\n",
       "      <td>NaN</td>\n",
       "      <td>f</td>\n",
       "      <td>1.0</td>\n",
       "      <td>...</td>\n",
       "      <td>2</td>\n",
       "      <td>1125</td>\n",
       "      <td>100.0</td>\n",
       "      <td>10.0</td>\n",
       "      <td>10.0</td>\n",
       "      <td>10.0</td>\n",
       "      <td>10.0</td>\n",
       "      <td>10.0</td>\n",
       "      <td>10.0</td>\n",
       "      <td>f</td>\n",
       "    </tr>\n",
       "    <tr>\n",
       "      <th>2</th>\n",
       "      <td>4082273</td>\n",
       "      <td>Lovely apartment with Terrace, 60m2</td>\n",
       "      <td>19252768</td>\n",
       "      <td>2014-07-31</td>\n",
       "      <td>Paris, Ile-de-France, France</td>\n",
       "      <td>NaN</td>\n",
       "      <td>NaN</td>\n",
       "      <td>NaN</td>\n",
       "      <td>f</td>\n",
       "      <td>1.0</td>\n",
       "      <td>...</td>\n",
       "      <td>2</td>\n",
       "      <td>1125</td>\n",
       "      <td>100.0</td>\n",
       "      <td>10.0</td>\n",
       "      <td>10.0</td>\n",
       "      <td>10.0</td>\n",
       "      <td>10.0</td>\n",
       "      <td>10.0</td>\n",
       "      <td>10.0</td>\n",
       "      <td>f</td>\n",
       "    </tr>\n",
       "    <tr>\n",
       "      <th>3</th>\n",
       "      <td>4797344</td>\n",
       "      <td>Cosy studio (close to Eiffel tower)</td>\n",
       "      <td>10668311</td>\n",
       "      <td>2013-12-17</td>\n",
       "      <td>Paris, Ile-de-France, France</td>\n",
       "      <td>NaN</td>\n",
       "      <td>NaN</td>\n",
       "      <td>NaN</td>\n",
       "      <td>f</td>\n",
       "      <td>1.0</td>\n",
       "      <td>...</td>\n",
       "      <td>2</td>\n",
       "      <td>1125</td>\n",
       "      <td>100.0</td>\n",
       "      <td>10.0</td>\n",
       "      <td>10.0</td>\n",
       "      <td>10.0</td>\n",
       "      <td>10.0</td>\n",
       "      <td>10.0</td>\n",
       "      <td>10.0</td>\n",
       "      <td>f</td>\n",
       "    </tr>\n",
       "    <tr>\n",
       "      <th>4</th>\n",
       "      <td>4823489</td>\n",
       "      <td>Close to Eiffel Tower - Beautiful flat : 2 rooms</td>\n",
       "      <td>24837558</td>\n",
       "      <td>2014-12-14</td>\n",
       "      <td>Paris, Ile-de-France, France</td>\n",
       "      <td>NaN</td>\n",
       "      <td>NaN</td>\n",
       "      <td>NaN</td>\n",
       "      <td>f</td>\n",
       "      <td>1.0</td>\n",
       "      <td>...</td>\n",
       "      <td>2</td>\n",
       "      <td>1125</td>\n",
       "      <td>100.0</td>\n",
       "      <td>10.0</td>\n",
       "      <td>10.0</td>\n",
       "      <td>10.0</td>\n",
       "      <td>10.0</td>\n",
       "      <td>10.0</td>\n",
       "      <td>10.0</td>\n",
       "      <td>f</td>\n",
       "    </tr>\n",
       "  </tbody>\n",
       "</table>\n",
       "<p>5 rows × 33 columns</p>\n",
       "</div>"
      ],
      "text/plain": [
       "   listing_id                                              name   host_id  \\\n",
       "0      281420    Beautiful Flat in le Village Montmartre, Paris   1466919   \n",
       "1     3705183                   39 mÃÂ² Paris (Sacre CÃ\n",
       "âur)  10328771   \n",
       "2     4082273               Lovely apartment with Terrace, 60m2  19252768   \n",
       "3     4797344               Cosy studio (close to Eiffel tower)  10668311   \n",
       "4     4823489  Close to Eiffel Tower - Beautiful flat : 2 rooms  24837558   \n",
       "\n",
       "   host_since                 host_location host_response_time  \\\n",
       "0  2011-12-03  Paris, Ile-de-France, France                NaN   \n",
       "1  2013-11-29  Paris, Ile-de-France, France                NaN   \n",
       "2  2014-07-31  Paris, Ile-de-France, France                NaN   \n",
       "3  2013-12-17  Paris, Ile-de-France, France                NaN   \n",
       "4  2014-12-14  Paris, Ile-de-France, France                NaN   \n",
       "\n",
       "   host_response_rate  host_acceptance_rate host_is_superhost  \\\n",
       "0                 NaN                   NaN                 f   \n",
       "1                 NaN                   NaN                 f   \n",
       "2                 NaN                   NaN                 f   \n",
       "3                 NaN                   NaN                 f   \n",
       "4                 NaN                   NaN                 f   \n",
       "\n",
       "   host_total_listings_count  ... minimum_nights maximum_nights  \\\n",
       "0                        1.0  ...              2           1125   \n",
       "1                        1.0  ...              2           1125   \n",
       "2                        1.0  ...              2           1125   \n",
       "3                        1.0  ...              2           1125   \n",
       "4                        1.0  ...              2           1125   \n",
       "\n",
       "  review_scores_rating review_scores_accuracy review_scores_cleanliness  \\\n",
       "0                100.0                   10.0                      10.0   \n",
       "1                100.0                   10.0                      10.0   \n",
       "2                100.0                   10.0                      10.0   \n",
       "3                100.0                   10.0                      10.0   \n",
       "4                100.0                   10.0                      10.0   \n",
       "\n",
       "   review_scores_checkin  review_scores_communication review_scores_location  \\\n",
       "0                   10.0                         10.0                   10.0   \n",
       "1                   10.0                         10.0                   10.0   \n",
       "2                   10.0                         10.0                   10.0   \n",
       "3                   10.0                         10.0                   10.0   \n",
       "4                   10.0                         10.0                   10.0   \n",
       "\n",
       "  review_scores_value  instant_bookable  \n",
       "0                10.0                 f  \n",
       "1                10.0                 f  \n",
       "2                10.0                 f  \n",
       "3                10.0                 f  \n",
       "4                10.0                 f  \n",
       "\n",
       "[5 rows x 33 columns]"
      ]
     },
     "execution_count": 3,
     "metadata": {},
     "output_type": "execute_result"
    }
   ],
   "source": [
    "#view df head\n",
    "\n",
    "df.head()"
   ]
  },
  {
   "cell_type": "code",
   "execution_count": 4,
   "metadata": {},
   "outputs": [
    {
     "data": {
      "text/html": [
       "<div>\n",
       "<style scoped>\n",
       "    .dataframe tbody tr th:only-of-type {\n",
       "        vertical-align: middle;\n",
       "    }\n",
       "\n",
       "    .dataframe tbody tr th {\n",
       "        vertical-align: top;\n",
       "    }\n",
       "\n",
       "    .dataframe thead th {\n",
       "        text-align: right;\n",
       "    }\n",
       "</style>\n",
       "<table border=\"1\" class=\"dataframe\">\n",
       "  <thead>\n",
       "    <tr style=\"text-align: right;\">\n",
       "      <th></th>\n",
       "      <th>listing_id</th>\n",
       "      <th>name</th>\n",
       "      <th>host_id</th>\n",
       "      <th>host_since</th>\n",
       "      <th>host_location</th>\n",
       "      <th>host_response_time</th>\n",
       "      <th>host_response_rate</th>\n",
       "      <th>host_acceptance_rate</th>\n",
       "      <th>host_is_superhost</th>\n",
       "      <th>host_total_listings_count</th>\n",
       "      <th>...</th>\n",
       "      <th>minimum_nights</th>\n",
       "      <th>maximum_nights</th>\n",
       "      <th>review_scores_rating</th>\n",
       "      <th>review_scores_accuracy</th>\n",
       "      <th>review_scores_cleanliness</th>\n",
       "      <th>review_scores_checkin</th>\n",
       "      <th>review_scores_communication</th>\n",
       "      <th>review_scores_location</th>\n",
       "      <th>review_scores_value</th>\n",
       "      <th>instant_bookable</th>\n",
       "    </tr>\n",
       "  </thead>\n",
       "  <tbody>\n",
       "    <tr>\n",
       "      <th>279707</th>\n",
       "      <td>38338635</td>\n",
       "      <td>Appartement T2 neuf prÃÂ¨s du tram T3a Porte ...</td>\n",
       "      <td>31161181</td>\n",
       "      <td>2015-04-13</td>\n",
       "      <td>Paris, Ile-de-France, France</td>\n",
       "      <td>NaN</td>\n",
       "      <td>NaN</td>\n",
       "      <td>NaN</td>\n",
       "      <td>f</td>\n",
       "      <td>1.0</td>\n",
       "      <td>...</td>\n",
       "      <td>1</td>\n",
       "      <td>7</td>\n",
       "      <td>100.0</td>\n",
       "      <td>10.0</td>\n",
       "      <td>10.0</td>\n",
       "      <td>10.0</td>\n",
       "      <td>10.0</td>\n",
       "      <td>10.0</td>\n",
       "      <td>10.0</td>\n",
       "      <td>f</td>\n",
       "    </tr>\n",
       "    <tr>\n",
       "      <th>279708</th>\n",
       "      <td>38538692</td>\n",
       "      <td>Cozy Studio in Montmartre</td>\n",
       "      <td>10294858</td>\n",
       "      <td>2013-11-27</td>\n",
       "      <td>Paris, Ile-de-France, France</td>\n",
       "      <td>NaN</td>\n",
       "      <td>NaN</td>\n",
       "      <td>NaN</td>\n",
       "      <td>f</td>\n",
       "      <td>1.0</td>\n",
       "      <td>...</td>\n",
       "      <td>7</td>\n",
       "      <td>15</td>\n",
       "      <td>100.0</td>\n",
       "      <td>10.0</td>\n",
       "      <td>10.0</td>\n",
       "      <td>10.0</td>\n",
       "      <td>10.0</td>\n",
       "      <td>10.0</td>\n",
       "      <td>10.0</td>\n",
       "      <td>f</td>\n",
       "    </tr>\n",
       "    <tr>\n",
       "      <th>279709</th>\n",
       "      <td>38683356</td>\n",
       "      <td>Nice and cosy mini-appartement in Paris</td>\n",
       "      <td>2238502</td>\n",
       "      <td>2012-04-27</td>\n",
       "      <td>Paris, Ile-de-France, France</td>\n",
       "      <td>NaN</td>\n",
       "      <td>NaN</td>\n",
       "      <td>NaN</td>\n",
       "      <td>f</td>\n",
       "      <td>1.0</td>\n",
       "      <td>...</td>\n",
       "      <td>6</td>\n",
       "      <td>30</td>\n",
       "      <td>100.0</td>\n",
       "      <td>10.0</td>\n",
       "      <td>10.0</td>\n",
       "      <td>10.0</td>\n",
       "      <td>10.0</td>\n",
       "      <td>10.0</td>\n",
       "      <td>10.0</td>\n",
       "      <td>f</td>\n",
       "    </tr>\n",
       "    <tr>\n",
       "      <th>279710</th>\n",
       "      <td>39659000</td>\n",
       "      <td>Charming apartment near Rue Saint Maur / Oberk...</td>\n",
       "      <td>38633695</td>\n",
       "      <td>2015-07-16</td>\n",
       "      <td>Paris, Ile-de-France, France</td>\n",
       "      <td>NaN</td>\n",
       "      <td>NaN</td>\n",
       "      <td>NaN</td>\n",
       "      <td>f</td>\n",
       "      <td>1.0</td>\n",
       "      <td>...</td>\n",
       "      <td>3</td>\n",
       "      <td>18</td>\n",
       "      <td>100.0</td>\n",
       "      <td>10.0</td>\n",
       "      <td>10.0</td>\n",
       "      <td>10.0</td>\n",
       "      <td>10.0</td>\n",
       "      <td>10.0</td>\n",
       "      <td>10.0</td>\n",
       "      <td>f</td>\n",
       "    </tr>\n",
       "    <tr>\n",
       "      <th>279711</th>\n",
       "      <td>40219504</td>\n",
       "      <td>Cosy apartment with view on Canal St Martin</td>\n",
       "      <td>6955618</td>\n",
       "      <td>2013-06-17</td>\n",
       "      <td>Paris, Ile-de-France, France</td>\n",
       "      <td>NaN</td>\n",
       "      <td>NaN</td>\n",
       "      <td>NaN</td>\n",
       "      <td>f</td>\n",
       "      <td>1.0</td>\n",
       "      <td>...</td>\n",
       "      <td>2</td>\n",
       "      <td>4</td>\n",
       "      <td>100.0</td>\n",
       "      <td>10.0</td>\n",
       "      <td>10.0</td>\n",
       "      <td>10.0</td>\n",
       "      <td>10.0</td>\n",
       "      <td>10.0</td>\n",
       "      <td>10.0</td>\n",
       "      <td>f</td>\n",
       "    </tr>\n",
       "  </tbody>\n",
       "</table>\n",
       "<p>5 rows × 33 columns</p>\n",
       "</div>"
      ],
      "text/plain": [
       "        listing_id                                               name  \\\n",
       "279707    38338635  Appartement T2 neuf prÃÂ¨s du tram T3a Porte ...   \n",
       "279708    38538692                          Cozy Studio in Montmartre   \n",
       "279709    38683356            Nice and cosy mini-appartement in Paris   \n",
       "279710    39659000  Charming apartment near Rue Saint Maur / Oberk...   \n",
       "279711    40219504        Cosy apartment with view on Canal St Martin   \n",
       "\n",
       "         host_id  host_since                 host_location host_response_time  \\\n",
       "279707  31161181  2015-04-13  Paris, Ile-de-France, France                NaN   \n",
       "279708  10294858  2013-11-27  Paris, Ile-de-France, France                NaN   \n",
       "279709   2238502  2012-04-27  Paris, Ile-de-France, France                NaN   \n",
       "279710  38633695  2015-07-16  Paris, Ile-de-France, France                NaN   \n",
       "279711   6955618  2013-06-17  Paris, Ile-de-France, France                NaN   \n",
       "\n",
       "        host_response_rate  host_acceptance_rate host_is_superhost  \\\n",
       "279707                 NaN                   NaN                 f   \n",
       "279708                 NaN                   NaN                 f   \n",
       "279709                 NaN                   NaN                 f   \n",
       "279710                 NaN                   NaN                 f   \n",
       "279711                 NaN                   NaN                 f   \n",
       "\n",
       "        host_total_listings_count  ... minimum_nights maximum_nights  \\\n",
       "279707                        1.0  ...              1              7   \n",
       "279708                        1.0  ...              7             15   \n",
       "279709                        1.0  ...              6             30   \n",
       "279710                        1.0  ...              3             18   \n",
       "279711                        1.0  ...              2              4   \n",
       "\n",
       "       review_scores_rating review_scores_accuracy review_scores_cleanliness  \\\n",
       "279707                100.0                   10.0                      10.0   \n",
       "279708                100.0                   10.0                      10.0   \n",
       "279709                100.0                   10.0                      10.0   \n",
       "279710                100.0                   10.0                      10.0   \n",
       "279711                100.0                   10.0                      10.0   \n",
       "\n",
       "        review_scores_checkin  review_scores_communication  \\\n",
       "279707                   10.0                         10.0   \n",
       "279708                   10.0                         10.0   \n",
       "279709                   10.0                         10.0   \n",
       "279710                   10.0                         10.0   \n",
       "279711                   10.0                         10.0   \n",
       "\n",
       "       review_scores_location review_scores_value  instant_bookable  \n",
       "279707                   10.0                10.0                 f  \n",
       "279708                   10.0                10.0                 f  \n",
       "279709                   10.0                10.0                 f  \n",
       "279710                   10.0                10.0                 f  \n",
       "279711                   10.0                10.0                 f  \n",
       "\n",
       "[5 rows x 33 columns]"
      ]
     },
     "execution_count": 4,
     "metadata": {},
     "output_type": "execute_result"
    }
   ],
   "source": [
    "#view df tail\n",
    "\n",
    "df.tail()"
   ]
  },
  {
   "cell_type": "markdown",
   "metadata": {},
   "source": [
    "**The exploratory phase of the analysis consists in understanding your dataset in order to create a plan for cleaning, structuring, organizing and mapping data.**"
   ]
  },
  {
   "cell_type": "code",
   "execution_count": 5,
   "metadata": {},
   "outputs": [
    {
     "data": {
      "text/plain": [
       "Index(['listing_id', 'name', 'host_id', 'host_since', 'host_location',\n",
       "       'host_response_time', 'host_response_rate', 'host_acceptance_rate',\n",
       "       'host_is_superhost', 'host_total_listings_count',\n",
       "       'host_has_profile_pic', 'host_identity_verified', 'neighbourhood',\n",
       "       'district', 'city', 'latitude', 'longitude', 'property_type',\n",
       "       'room_type', 'accommodates', 'bedrooms', 'amenities', 'price',\n",
       "       'minimum_nights', 'maximum_nights', 'review_scores_rating',\n",
       "       'review_scores_accuracy', 'review_scores_cleanliness',\n",
       "       'review_scores_checkin', 'review_scores_communication',\n",
       "       'review_scores_location', 'review_scores_value', 'instant_bookable'],\n",
       "      dtype='object')"
      ]
     },
     "execution_count": 5,
     "metadata": {},
     "output_type": "execute_result"
    }
   ],
   "source": [
    "#we observe there are 33 columns, but we can't see all of them with the head or tail function\n",
    "\n",
    "df.columns"
   ]
  },
  {
   "cell_type": "code",
   "execution_count": 6,
   "metadata": {},
   "outputs": [],
   "source": [
    "#let's read the listings data dictionary file to view the columns description\n",
    "#we'll use the same method as above with pd read \n",
    "\n",
    "path2 =r'C:\\\\Users\\Domnica Maria\\Documents\\1. PROJECTS\\Maven-Vacation-Challenge\\Airbnb Data\\Listings_data_dictionary.csv'\n",
    "df_dict = pd.read_csv(path2)"
   ]
  },
  {
   "cell_type": "code",
   "execution_count": 7,
   "metadata": {},
   "outputs": [
    {
     "data": {
      "text/html": [
       "<div>\n",
       "<style scoped>\n",
       "    .dataframe tbody tr th:only-of-type {\n",
       "        vertical-align: middle;\n",
       "    }\n",
       "\n",
       "    .dataframe tbody tr th {\n",
       "        vertical-align: top;\n",
       "    }\n",
       "\n",
       "    .dataframe thead th {\n",
       "        text-align: right;\n",
       "    }\n",
       "</style>\n",
       "<table border=\"1\" class=\"dataframe\">\n",
       "  <thead>\n",
       "    <tr style=\"text-align: right;\">\n",
       "      <th></th>\n",
       "      <th>Field</th>\n",
       "      <th>Description</th>\n",
       "    </tr>\n",
       "  </thead>\n",
       "  <tbody>\n",
       "    <tr>\n",
       "      <th>0</th>\n",
       "      <td>listing_id</td>\n",
       "      <td>Listing ID</td>\n",
       "    </tr>\n",
       "    <tr>\n",
       "      <th>1</th>\n",
       "      <td>name</td>\n",
       "      <td>Listing Name</td>\n",
       "    </tr>\n",
       "    <tr>\n",
       "      <th>2</th>\n",
       "      <td>host_id</td>\n",
       "      <td>Host ID</td>\n",
       "    </tr>\n",
       "    <tr>\n",
       "      <th>3</th>\n",
       "      <td>host_since</td>\n",
       "      <td>Date the Host joined Airbnb</td>\n",
       "    </tr>\n",
       "    <tr>\n",
       "      <th>4</th>\n",
       "      <td>host_location</td>\n",
       "      <td>Location where the Host is based</td>\n",
       "    </tr>\n",
       "    <tr>\n",
       "      <th>5</th>\n",
       "      <td>host_response_time</td>\n",
       "      <td>Estimate of how long the Host takes to respond</td>\n",
       "    </tr>\n",
       "    <tr>\n",
       "      <th>6</th>\n",
       "      <td>host_response_rate</td>\n",
       "      <td>Percentage of times the Host responds</td>\n",
       "    </tr>\n",
       "    <tr>\n",
       "      <th>7</th>\n",
       "      <td>host_acceptance_rate</td>\n",
       "      <td>Percentage of times the Host accepts a booking...</td>\n",
       "    </tr>\n",
       "    <tr>\n",
       "      <th>8</th>\n",
       "      <td>host_is_superhost</td>\n",
       "      <td>Binary field to determine if the Host is a Sup...</td>\n",
       "    </tr>\n",
       "    <tr>\n",
       "      <th>9</th>\n",
       "      <td>host_total_listings_count</td>\n",
       "      <td>Total listings the Host has in Airbnb</td>\n",
       "    </tr>\n",
       "    <tr>\n",
       "      <th>10</th>\n",
       "      <td>host_has_profile_pic</td>\n",
       "      <td>Binary field to determine if the Host has a pr...</td>\n",
       "    </tr>\n",
       "    <tr>\n",
       "      <th>11</th>\n",
       "      <td>host_identity_verified</td>\n",
       "      <td>Binary field to determine if the Host has a ve...</td>\n",
       "    </tr>\n",
       "    <tr>\n",
       "      <th>12</th>\n",
       "      <td>neighbourhood</td>\n",
       "      <td>Neighborhood the Listing is in</td>\n",
       "    </tr>\n",
       "    <tr>\n",
       "      <th>13</th>\n",
       "      <td>district</td>\n",
       "      <td>District the Listing is in</td>\n",
       "    </tr>\n",
       "    <tr>\n",
       "      <th>14</th>\n",
       "      <td>city</td>\n",
       "      <td>City the Listing is in</td>\n",
       "    </tr>\n",
       "    <tr>\n",
       "      <th>15</th>\n",
       "      <td>latitude</td>\n",
       "      <td>Listing's latitude</td>\n",
       "    </tr>\n",
       "    <tr>\n",
       "      <th>16</th>\n",
       "      <td>longitude</td>\n",
       "      <td>Listing's longitude</td>\n",
       "    </tr>\n",
       "    <tr>\n",
       "      <th>17</th>\n",
       "      <td>property_type</td>\n",
       "      <td>Type of property for the Listing</td>\n",
       "    </tr>\n",
       "    <tr>\n",
       "      <th>18</th>\n",
       "      <td>room_type</td>\n",
       "      <td>Type of room type in Airbnb for the Listing</td>\n",
       "    </tr>\n",
       "    <tr>\n",
       "      <th>19</th>\n",
       "      <td>accommodates</td>\n",
       "      <td>Guests the Listing accomodates</td>\n",
       "    </tr>\n",
       "    <tr>\n",
       "      <th>20</th>\n",
       "      <td>bedrooms</td>\n",
       "      <td>Bedrooms in the Listing</td>\n",
       "    </tr>\n",
       "    <tr>\n",
       "      <th>21</th>\n",
       "      <td>amenities</td>\n",
       "      <td>Amenities the Listing includes</td>\n",
       "    </tr>\n",
       "    <tr>\n",
       "      <th>22</th>\n",
       "      <td>price</td>\n",
       "      <td>Listing price (in each country's currency)</td>\n",
       "    </tr>\n",
       "    <tr>\n",
       "      <th>23</th>\n",
       "      <td>minimum_nights</td>\n",
       "      <td>Minimum nights per booking</td>\n",
       "    </tr>\n",
       "    <tr>\n",
       "      <th>24</th>\n",
       "      <td>maximum_nights</td>\n",
       "      <td>Maximum nights per booking</td>\n",
       "    </tr>\n",
       "    <tr>\n",
       "      <th>25</th>\n",
       "      <td>review_scores_rating</td>\n",
       "      <td>Listing's overall rating (out of 100)</td>\n",
       "    </tr>\n",
       "    <tr>\n",
       "      <th>26</th>\n",
       "      <td>review_scores_accuracy</td>\n",
       "      <td>Listing's accuracy score based on what's promo...</td>\n",
       "    </tr>\n",
       "    <tr>\n",
       "      <th>27</th>\n",
       "      <td>review_scores_cleanliness</td>\n",
       "      <td>Listing's cleanliness score (out of 10)</td>\n",
       "    </tr>\n",
       "    <tr>\n",
       "      <th>28</th>\n",
       "      <td>review_scores_checkin</td>\n",
       "      <td>Listing's check-in experience score (out of 10)</td>\n",
       "    </tr>\n",
       "    <tr>\n",
       "      <th>29</th>\n",
       "      <td>review_scores_communication</td>\n",
       "      <td>Listing's communication with the Host score (o...</td>\n",
       "    </tr>\n",
       "    <tr>\n",
       "      <th>30</th>\n",
       "      <td>review_scores_location</td>\n",
       "      <td>Listing's location score within the city (out ...</td>\n",
       "    </tr>\n",
       "    <tr>\n",
       "      <th>31</th>\n",
       "      <td>review_scores_value</td>\n",
       "      <td>Listing's value score relative to its price (o...</td>\n",
       "    </tr>\n",
       "    <tr>\n",
       "      <th>32</th>\n",
       "      <td>instant_bookable</td>\n",
       "      <td>Binary field to determine if the Listing can b...</td>\n",
       "    </tr>\n",
       "  </tbody>\n",
       "</table>\n",
       "</div>"
      ],
      "text/plain": [
       "                          Field  \\\n",
       "0                    listing_id   \n",
       "1                          name   \n",
       "2                       host_id   \n",
       "3                    host_since   \n",
       "4                 host_location   \n",
       "5            host_response_time   \n",
       "6            host_response_rate   \n",
       "7          host_acceptance_rate   \n",
       "8             host_is_superhost   \n",
       "9     host_total_listings_count   \n",
       "10         host_has_profile_pic   \n",
       "11       host_identity_verified   \n",
       "12                neighbourhood   \n",
       "13                     district   \n",
       "14                         city   \n",
       "15                     latitude   \n",
       "16                    longitude   \n",
       "17                property_type   \n",
       "18                    room_type   \n",
       "19                 accommodates   \n",
       "20                     bedrooms   \n",
       "21                    amenities   \n",
       "22                        price   \n",
       "23               minimum_nights   \n",
       "24               maximum_nights   \n",
       "25         review_scores_rating   \n",
       "26       review_scores_accuracy   \n",
       "27    review_scores_cleanliness   \n",
       "28        review_scores_checkin   \n",
       "29  review_scores_communication   \n",
       "30       review_scores_location   \n",
       "31          review_scores_value   \n",
       "32             instant_bookable   \n",
       "\n",
       "                                          Description  \n",
       "0                                          Listing ID  \n",
       "1                                        Listing Name  \n",
       "2                                             Host ID  \n",
       "3                         Date the Host joined Airbnb  \n",
       "4                    Location where the Host is based  \n",
       "5      Estimate of how long the Host takes to respond  \n",
       "6               Percentage of times the Host responds  \n",
       "7   Percentage of times the Host accepts a booking...  \n",
       "8   Binary field to determine if the Host is a Sup...  \n",
       "9               Total listings the Host has in Airbnb  \n",
       "10  Binary field to determine if the Host has a pr...  \n",
       "11  Binary field to determine if the Host has a ve...  \n",
       "12                     Neighborhood the Listing is in  \n",
       "13                         District the Listing is in  \n",
       "14                             City the Listing is in  \n",
       "15                                 Listing's latitude  \n",
       "16                                Listing's longitude  \n",
       "17                   Type of property for the Listing  \n",
       "18        Type of room type in Airbnb for the Listing  \n",
       "19                     Guests the Listing accomodates  \n",
       "20                            Bedrooms in the Listing  \n",
       "21                     Amenities the Listing includes  \n",
       "22         Listing price (in each country's currency)  \n",
       "23                         Minimum nights per booking  \n",
       "24                         Maximum nights per booking  \n",
       "25              Listing's overall rating (out of 100)  \n",
       "26  Listing's accuracy score based on what's promo...  \n",
       "27            Listing's cleanliness score (out of 10)  \n",
       "28    Listing's check-in experience score (out of 10)  \n",
       "29  Listing's communication with the Host score (o...  \n",
       "30  Listing's location score within the city (out ...  \n",
       "31  Listing's value score relative to its price (o...  \n",
       "32  Binary field to determine if the Listing can b...  "
      ]
     },
     "execution_count": 7,
     "metadata": {},
     "output_type": "execute_result"
    }
   ],
   "source": [
    "#view df dictionary \n",
    "#this will help us understand the fields content better in the exploratory phase and then later in the transformation phase\n",
    "\n",
    "df_dict"
   ]
  },
  {
   "cell_type": "code",
   "execution_count": 8,
   "metadata": {},
   "outputs": [
    {
     "name": "stdout",
     "output_type": "stream",
     "text": [
      "<class 'pandas.core.frame.DataFrame'>\n",
      "RangeIndex: 279712 entries, 0 to 279711\n",
      "Data columns (total 33 columns):\n",
      " #   Column                       Non-Null Count   Dtype  \n",
      "---  ------                       --------------   -----  \n",
      " 0   listing_id                   279712 non-null  int64  \n",
      " 1   name                         279539 non-null  object \n",
      " 2   host_id                      279712 non-null  int64  \n",
      " 3   host_since                   279547 non-null  object \n",
      " 4   host_location                278872 non-null  object \n",
      " 5   host_response_time           150930 non-null  object \n",
      " 6   host_response_rate           150930 non-null  float64\n",
      " 7   host_acceptance_rate         166625 non-null  float64\n",
      " 8   host_is_superhost            279547 non-null  object \n",
      " 9   host_total_listings_count    279547 non-null  float64\n",
      " 10  host_has_profile_pic         279547 non-null  object \n",
      " 11  host_identity_verified       279547 non-null  object \n",
      " 12  neighbourhood                279712 non-null  object \n",
      " 13  district                     37012 non-null   object \n",
      " 14  city                         279712 non-null  object \n",
      " 15  latitude                     279712 non-null  float64\n",
      " 16  longitude                    279712 non-null  float64\n",
      " 17  property_type                279712 non-null  object \n",
      " 18  room_type                    279712 non-null  object \n",
      " 19  accommodates                 279712 non-null  int64  \n",
      " 20  bedrooms                     250277 non-null  float64\n",
      " 21  amenities                    279712 non-null  object \n",
      " 22  price                        279712 non-null  int64  \n",
      " 23  minimum_nights               279712 non-null  int64  \n",
      " 24  maximum_nights               279712 non-null  int64  \n",
      " 25  review_scores_rating         188307 non-null  float64\n",
      " 26  review_scores_accuracy       187999 non-null  float64\n",
      " 27  review_scores_cleanliness    188047 non-null  float64\n",
      " 28  review_scores_checkin        187941 non-null  float64\n",
      " 29  review_scores_communication  188025 non-null  float64\n",
      " 30  review_scores_location       187937 non-null  float64\n",
      " 31  review_scores_value          187927 non-null  float64\n",
      " 32  instant_bookable             279712 non-null  object \n",
      "dtypes: float64(13), int64(6), object(14)\n",
      "memory usage: 70.4+ MB\n"
     ]
    }
   ],
   "source": [
    "#get more information by using the info function\n",
    "\n",
    "df.info()"
   ]
  },
  {
   "cell_type": "markdown",
   "metadata": {},
   "source": [
    "We know we have 279712 records in this dataset and 33 columns. "
   ]
  },
  {
   "cell_type": "markdown",
   "metadata": {},
   "source": [
    "**Statistics summary**"
   ]
  },
  {
   "cell_type": "code",
   "execution_count": 9,
   "metadata": {},
   "outputs": [
    {
     "data": {
      "text/html": [
       "<div>\n",
       "<style scoped>\n",
       "    .dataframe tbody tr th:only-of-type {\n",
       "        vertical-align: middle;\n",
       "    }\n",
       "\n",
       "    .dataframe tbody tr th {\n",
       "        vertical-align: top;\n",
       "    }\n",
       "\n",
       "    .dataframe thead th {\n",
       "        text-align: right;\n",
       "    }\n",
       "</style>\n",
       "<table border=\"1\" class=\"dataframe\">\n",
       "  <thead>\n",
       "    <tr style=\"text-align: right;\">\n",
       "      <th></th>\n",
       "      <th>listing_id</th>\n",
       "      <th>host_id</th>\n",
       "      <th>host_response_rate</th>\n",
       "      <th>host_acceptance_rate</th>\n",
       "      <th>host_total_listings_count</th>\n",
       "      <th>latitude</th>\n",
       "      <th>longitude</th>\n",
       "      <th>accommodates</th>\n",
       "      <th>bedrooms</th>\n",
       "      <th>price</th>\n",
       "      <th>minimum_nights</th>\n",
       "      <th>maximum_nights</th>\n",
       "      <th>review_scores_rating</th>\n",
       "      <th>review_scores_accuracy</th>\n",
       "      <th>review_scores_cleanliness</th>\n",
       "      <th>review_scores_checkin</th>\n",
       "      <th>review_scores_communication</th>\n",
       "      <th>review_scores_location</th>\n",
       "      <th>review_scores_value</th>\n",
       "    </tr>\n",
       "  </thead>\n",
       "  <tbody>\n",
       "    <tr>\n",
       "      <th>count</th>\n",
       "      <td>2.797120e+05</td>\n",
       "      <td>2.797120e+05</td>\n",
       "      <td>150930.000000</td>\n",
       "      <td>166625.000000</td>\n",
       "      <td>279547.000000</td>\n",
       "      <td>279712.000000</td>\n",
       "      <td>279712.000000</td>\n",
       "      <td>279712.000000</td>\n",
       "      <td>250277.000000</td>\n",
       "      <td>279712.000000</td>\n",
       "      <td>279712.000000</td>\n",
       "      <td>2.797120e+05</td>\n",
       "      <td>188307.000000</td>\n",
       "      <td>187999.000000</td>\n",
       "      <td>188047.000000</td>\n",
       "      <td>187941.000000</td>\n",
       "      <td>188025.000000</td>\n",
       "      <td>187937.000000</td>\n",
       "      <td>187927.000000</td>\n",
       "    </tr>\n",
       "    <tr>\n",
       "      <th>mean</th>\n",
       "      <td>2.638196e+07</td>\n",
       "      <td>1.081658e+08</td>\n",
       "      <td>0.865939</td>\n",
       "      <td>0.827168</td>\n",
       "      <td>24.581612</td>\n",
       "      <td>18.761862</td>\n",
       "      <td>12.595075</td>\n",
       "      <td>3.288736</td>\n",
       "      <td>1.515509</td>\n",
       "      <td>608.792737</td>\n",
       "      <td>8.050967</td>\n",
       "      <td>2.755860e+04</td>\n",
       "      <td>93.405195</td>\n",
       "      <td>9.565476</td>\n",
       "      <td>9.312869</td>\n",
       "      <td>9.701534</td>\n",
       "      <td>9.698593</td>\n",
       "      <td>9.633994</td>\n",
       "      <td>9.335364</td>\n",
       "    </tr>\n",
       "    <tr>\n",
       "      <th>std</th>\n",
       "      <td>1.442576e+07</td>\n",
       "      <td>1.108570e+08</td>\n",
       "      <td>0.283744</td>\n",
       "      <td>0.289202</td>\n",
       "      <td>284.041143</td>\n",
       "      <td>32.560343</td>\n",
       "      <td>73.081309</td>\n",
       "      <td>2.133379</td>\n",
       "      <td>1.153080</td>\n",
       "      <td>3441.826611</td>\n",
       "      <td>31.518946</td>\n",
       "      <td>7.282875e+06</td>\n",
       "      <td>10.070437</td>\n",
       "      <td>0.990878</td>\n",
       "      <td>1.146072</td>\n",
       "      <td>0.867434</td>\n",
       "      <td>0.886884</td>\n",
       "      <td>0.833234</td>\n",
       "      <td>1.042625</td>\n",
       "    </tr>\n",
       "    <tr>\n",
       "      <th>min</th>\n",
       "      <td>2.577000e+03</td>\n",
       "      <td>1.822000e+03</td>\n",
       "      <td>0.000000</td>\n",
       "      <td>0.000000</td>\n",
       "      <td>0.000000</td>\n",
       "      <td>-34.264400</td>\n",
       "      <td>-99.339630</td>\n",
       "      <td>0.000000</td>\n",
       "      <td>1.000000</td>\n",
       "      <td>0.000000</td>\n",
       "      <td>1.000000</td>\n",
       "      <td>1.000000e+00</td>\n",
       "      <td>20.000000</td>\n",
       "      <td>2.000000</td>\n",
       "      <td>2.000000</td>\n",
       "      <td>2.000000</td>\n",
       "      <td>2.000000</td>\n",
       "      <td>2.000000</td>\n",
       "      <td>2.000000</td>\n",
       "    </tr>\n",
       "    <tr>\n",
       "      <th>25%</th>\n",
       "      <td>1.384462e+07</td>\n",
       "      <td>1.720656e+07</td>\n",
       "      <td>0.900000</td>\n",
       "      <td>0.780000</td>\n",
       "      <td>1.000000</td>\n",
       "      <td>-22.964390</td>\n",
       "      <td>-43.198040</td>\n",
       "      <td>2.000000</td>\n",
       "      <td>1.000000</td>\n",
       "      <td>75.000000</td>\n",
       "      <td>1.000000</td>\n",
       "      <td>4.500000e+01</td>\n",
       "      <td>91.000000</td>\n",
       "      <td>9.000000</td>\n",
       "      <td>9.000000</td>\n",
       "      <td>10.000000</td>\n",
       "      <td>10.000000</td>\n",
       "      <td>9.000000</td>\n",
       "      <td>9.000000</td>\n",
       "    </tr>\n",
       "    <tr>\n",
       "      <th>50%</th>\n",
       "      <td>2.767098e+07</td>\n",
       "      <td>5.826911e+07</td>\n",
       "      <td>1.000000</td>\n",
       "      <td>0.980000</td>\n",
       "      <td>1.000000</td>\n",
       "      <td>40.710785</td>\n",
       "      <td>2.382780</td>\n",
       "      <td>2.000000</td>\n",
       "      <td>1.000000</td>\n",
       "      <td>150.000000</td>\n",
       "      <td>2.000000</td>\n",
       "      <td>1.125000e+03</td>\n",
       "      <td>96.000000</td>\n",
       "      <td>10.000000</td>\n",
       "      <td>10.000000</td>\n",
       "      <td>10.000000</td>\n",
       "      <td>10.000000</td>\n",
       "      <td>10.000000</td>\n",
       "      <td>10.000000</td>\n",
       "    </tr>\n",
       "    <tr>\n",
       "      <th>75%</th>\n",
       "      <td>3.978485e+07</td>\n",
       "      <td>1.832853e+08</td>\n",
       "      <td>1.000000</td>\n",
       "      <td>1.000000</td>\n",
       "      <td>4.000000</td>\n",
       "      <td>41.908610</td>\n",
       "      <td>28.986730</td>\n",
       "      <td>4.000000</td>\n",
       "      <td>2.000000</td>\n",
       "      <td>474.000000</td>\n",
       "      <td>5.000000</td>\n",
       "      <td>1.125000e+03</td>\n",
       "      <td>100.000000</td>\n",
       "      <td>10.000000</td>\n",
       "      <td>10.000000</td>\n",
       "      <td>10.000000</td>\n",
       "      <td>10.000000</td>\n",
       "      <td>10.000000</td>\n",
       "      <td>10.000000</td>\n",
       "    </tr>\n",
       "    <tr>\n",
       "      <th>max</th>\n",
       "      <td>4.834353e+07</td>\n",
       "      <td>3.901874e+08</td>\n",
       "      <td>1.000000</td>\n",
       "      <td>1.000000</td>\n",
       "      <td>7235.000000</td>\n",
       "      <td>48.904910</td>\n",
       "      <td>151.339810</td>\n",
       "      <td>16.000000</td>\n",
       "      <td>50.000000</td>\n",
       "      <td>625216.000000</td>\n",
       "      <td>9999.000000</td>\n",
       "      <td>2.147484e+09</td>\n",
       "      <td>100.000000</td>\n",
       "      <td>10.000000</td>\n",
       "      <td>10.000000</td>\n",
       "      <td>10.000000</td>\n",
       "      <td>10.000000</td>\n",
       "      <td>10.000000</td>\n",
       "      <td>10.000000</td>\n",
       "    </tr>\n",
       "  </tbody>\n",
       "</table>\n",
       "</div>"
      ],
      "text/plain": [
       "         listing_id       host_id  host_response_rate  host_acceptance_rate  \\\n",
       "count  2.797120e+05  2.797120e+05       150930.000000         166625.000000   \n",
       "mean   2.638196e+07  1.081658e+08            0.865939              0.827168   \n",
       "std    1.442576e+07  1.108570e+08            0.283744              0.289202   \n",
       "min    2.577000e+03  1.822000e+03            0.000000              0.000000   \n",
       "25%    1.384462e+07  1.720656e+07            0.900000              0.780000   \n",
       "50%    2.767098e+07  5.826911e+07            1.000000              0.980000   \n",
       "75%    3.978485e+07  1.832853e+08            1.000000              1.000000   \n",
       "max    4.834353e+07  3.901874e+08            1.000000              1.000000   \n",
       "\n",
       "       host_total_listings_count       latitude      longitude   accommodates  \\\n",
       "count              279547.000000  279712.000000  279712.000000  279712.000000   \n",
       "mean                   24.581612      18.761862      12.595075       3.288736   \n",
       "std                   284.041143      32.560343      73.081309       2.133379   \n",
       "min                     0.000000     -34.264400     -99.339630       0.000000   \n",
       "25%                     1.000000     -22.964390     -43.198040       2.000000   \n",
       "50%                     1.000000      40.710785       2.382780       2.000000   \n",
       "75%                     4.000000      41.908610      28.986730       4.000000   \n",
       "max                  7235.000000      48.904910     151.339810      16.000000   \n",
       "\n",
       "            bedrooms          price  minimum_nights  maximum_nights  \\\n",
       "count  250277.000000  279712.000000   279712.000000    2.797120e+05   \n",
       "mean        1.515509     608.792737        8.050967    2.755860e+04   \n",
       "std         1.153080    3441.826611       31.518946    7.282875e+06   \n",
       "min         1.000000       0.000000        1.000000    1.000000e+00   \n",
       "25%         1.000000      75.000000        1.000000    4.500000e+01   \n",
       "50%         1.000000     150.000000        2.000000    1.125000e+03   \n",
       "75%         2.000000     474.000000        5.000000    1.125000e+03   \n",
       "max        50.000000  625216.000000     9999.000000    2.147484e+09   \n",
       "\n",
       "       review_scores_rating  review_scores_accuracy  \\\n",
       "count         188307.000000           187999.000000   \n",
       "mean              93.405195                9.565476   \n",
       "std               10.070437                0.990878   \n",
       "min               20.000000                2.000000   \n",
       "25%               91.000000                9.000000   \n",
       "50%               96.000000               10.000000   \n",
       "75%              100.000000               10.000000   \n",
       "max              100.000000               10.000000   \n",
       "\n",
       "       review_scores_cleanliness  review_scores_checkin  \\\n",
       "count              188047.000000          187941.000000   \n",
       "mean                    9.312869               9.701534   \n",
       "std                     1.146072               0.867434   \n",
       "min                     2.000000               2.000000   \n",
       "25%                     9.000000              10.000000   \n",
       "50%                    10.000000              10.000000   \n",
       "75%                    10.000000              10.000000   \n",
       "max                    10.000000              10.000000   \n",
       "\n",
       "       review_scores_communication  review_scores_location  \\\n",
       "count                188025.000000           187937.000000   \n",
       "mean                      9.698593                9.633994   \n",
       "std                       0.886884                0.833234   \n",
       "min                       2.000000                2.000000   \n",
       "25%                      10.000000                9.000000   \n",
       "50%                      10.000000               10.000000   \n",
       "75%                      10.000000               10.000000   \n",
       "max                      10.000000               10.000000   \n",
       "\n",
       "       review_scores_value  \n",
       "count        187927.000000  \n",
       "mean              9.335364  \n",
       "std               1.042625  \n",
       "min               2.000000  \n",
       "25%               9.000000  \n",
       "50%              10.000000  \n",
       "75%              10.000000  \n",
       "max              10.000000  "
      ]
     },
     "execution_count": 9,
     "metadata": {},
     "output_type": "execute_result"
    }
   ],
   "source": [
    "#get a statistical summary of each column, such as count, column mean value, column standard deviation, etc. \n",
    "#We use the describe function\n",
    "\n",
    "df.describe()"
   ]
  },
  {
   "cell_type": "code",
   "execution_count": 10,
   "metadata": {},
   "outputs": [
    {
     "data": {
      "text/html": [
       "<div>\n",
       "<style scoped>\n",
       "    .dataframe tbody tr th:only-of-type {\n",
       "        vertical-align: middle;\n",
       "    }\n",
       "\n",
       "    .dataframe tbody tr th {\n",
       "        vertical-align: top;\n",
       "    }\n",
       "\n",
       "    .dataframe thead th {\n",
       "        text-align: right;\n",
       "    }\n",
       "</style>\n",
       "<table border=\"1\" class=\"dataframe\">\n",
       "  <thead>\n",
       "    <tr style=\"text-align: right;\">\n",
       "      <th></th>\n",
       "      <th>listing_id</th>\n",
       "      <th>name</th>\n",
       "      <th>host_id</th>\n",
       "      <th>host_since</th>\n",
       "      <th>host_location</th>\n",
       "      <th>host_response_time</th>\n",
       "      <th>host_response_rate</th>\n",
       "      <th>host_acceptance_rate</th>\n",
       "      <th>host_is_superhost</th>\n",
       "      <th>host_total_listings_count</th>\n",
       "      <th>...</th>\n",
       "      <th>minimum_nights</th>\n",
       "      <th>maximum_nights</th>\n",
       "      <th>review_scores_rating</th>\n",
       "      <th>review_scores_accuracy</th>\n",
       "      <th>review_scores_cleanliness</th>\n",
       "      <th>review_scores_checkin</th>\n",
       "      <th>review_scores_communication</th>\n",
       "      <th>review_scores_location</th>\n",
       "      <th>review_scores_value</th>\n",
       "      <th>instant_bookable</th>\n",
       "    </tr>\n",
       "  </thead>\n",
       "  <tbody>\n",
       "    <tr>\n",
       "      <th>count</th>\n",
       "      <td>2.797120e+05</td>\n",
       "      <td>279539</td>\n",
       "      <td>2.797120e+05</td>\n",
       "      <td>279547</td>\n",
       "      <td>278872</td>\n",
       "      <td>150930</td>\n",
       "      <td>150930.000000</td>\n",
       "      <td>166625.000000</td>\n",
       "      <td>279547</td>\n",
       "      <td>279547.000000</td>\n",
       "      <td>...</td>\n",
       "      <td>279712.000000</td>\n",
       "      <td>2.797120e+05</td>\n",
       "      <td>188307.000000</td>\n",
       "      <td>187999.000000</td>\n",
       "      <td>188047.000000</td>\n",
       "      <td>187941.000000</td>\n",
       "      <td>188025.000000</td>\n",
       "      <td>187937.000000</td>\n",
       "      <td>187927.000000</td>\n",
       "      <td>279712</td>\n",
       "    </tr>\n",
       "    <tr>\n",
       "      <th>unique</th>\n",
       "      <td>NaN</td>\n",
       "      <td>265861</td>\n",
       "      <td>NaN</td>\n",
       "      <td>4240</td>\n",
       "      <td>7159</td>\n",
       "      <td>4</td>\n",
       "      <td>NaN</td>\n",
       "      <td>NaN</td>\n",
       "      <td>2</td>\n",
       "      <td>NaN</td>\n",
       "      <td>...</td>\n",
       "      <td>NaN</td>\n",
       "      <td>NaN</td>\n",
       "      <td>NaN</td>\n",
       "      <td>NaN</td>\n",
       "      <td>NaN</td>\n",
       "      <td>NaN</td>\n",
       "      <td>NaN</td>\n",
       "      <td>NaN</td>\n",
       "      <td>NaN</td>\n",
       "      <td>2</td>\n",
       "    </tr>\n",
       "    <tr>\n",
       "      <th>top</th>\n",
       "      <td>NaN</td>\n",
       "      <td>home away from home</td>\n",
       "      <td>NaN</td>\n",
       "      <td>2019-09-02</td>\n",
       "      <td>Paris, Ile-de-France, France</td>\n",
       "      <td>within an hour</td>\n",
       "      <td>NaN</td>\n",
       "      <td>NaN</td>\n",
       "      <td>f</td>\n",
       "      <td>NaN</td>\n",
       "      <td>...</td>\n",
       "      <td>NaN</td>\n",
       "      <td>NaN</td>\n",
       "      <td>NaN</td>\n",
       "      <td>NaN</td>\n",
       "      <td>NaN</td>\n",
       "      <td>NaN</td>\n",
       "      <td>NaN</td>\n",
       "      <td>NaN</td>\n",
       "      <td>NaN</td>\n",
       "      <td>f</td>\n",
       "    </tr>\n",
       "    <tr>\n",
       "      <th>freq</th>\n",
       "      <td>NaN</td>\n",
       "      <td>98</td>\n",
       "      <td>NaN</td>\n",
       "      <td>710</td>\n",
       "      <td>47794</td>\n",
       "      <td>83464</td>\n",
       "      <td>NaN</td>\n",
       "      <td>NaN</td>\n",
       "      <td>229294</td>\n",
       "      <td>NaN</td>\n",
       "      <td>...</td>\n",
       "      <td>NaN</td>\n",
       "      <td>NaN</td>\n",
       "      <td>NaN</td>\n",
       "      <td>NaN</td>\n",
       "      <td>NaN</td>\n",
       "      <td>NaN</td>\n",
       "      <td>NaN</td>\n",
       "      <td>NaN</td>\n",
       "      <td>NaN</td>\n",
       "      <td>164105</td>\n",
       "    </tr>\n",
       "    <tr>\n",
       "      <th>mean</th>\n",
       "      <td>2.638196e+07</td>\n",
       "      <td>NaN</td>\n",
       "      <td>1.081658e+08</td>\n",
       "      <td>NaN</td>\n",
       "      <td>NaN</td>\n",
       "      <td>NaN</td>\n",
       "      <td>0.865939</td>\n",
       "      <td>0.827168</td>\n",
       "      <td>NaN</td>\n",
       "      <td>24.581612</td>\n",
       "      <td>...</td>\n",
       "      <td>8.050967</td>\n",
       "      <td>2.755860e+04</td>\n",
       "      <td>93.405195</td>\n",
       "      <td>9.565476</td>\n",
       "      <td>9.312869</td>\n",
       "      <td>9.701534</td>\n",
       "      <td>9.698593</td>\n",
       "      <td>9.633994</td>\n",
       "      <td>9.335364</td>\n",
       "      <td>NaN</td>\n",
       "    </tr>\n",
       "    <tr>\n",
       "      <th>std</th>\n",
       "      <td>1.442576e+07</td>\n",
       "      <td>NaN</td>\n",
       "      <td>1.108570e+08</td>\n",
       "      <td>NaN</td>\n",
       "      <td>NaN</td>\n",
       "      <td>NaN</td>\n",
       "      <td>0.283744</td>\n",
       "      <td>0.289202</td>\n",
       "      <td>NaN</td>\n",
       "      <td>284.041143</td>\n",
       "      <td>...</td>\n",
       "      <td>31.518946</td>\n",
       "      <td>7.282875e+06</td>\n",
       "      <td>10.070437</td>\n",
       "      <td>0.990878</td>\n",
       "      <td>1.146072</td>\n",
       "      <td>0.867434</td>\n",
       "      <td>0.886884</td>\n",
       "      <td>0.833234</td>\n",
       "      <td>1.042625</td>\n",
       "      <td>NaN</td>\n",
       "    </tr>\n",
       "    <tr>\n",
       "      <th>min</th>\n",
       "      <td>2.577000e+03</td>\n",
       "      <td>NaN</td>\n",
       "      <td>1.822000e+03</td>\n",
       "      <td>NaN</td>\n",
       "      <td>NaN</td>\n",
       "      <td>NaN</td>\n",
       "      <td>0.000000</td>\n",
       "      <td>0.000000</td>\n",
       "      <td>NaN</td>\n",
       "      <td>0.000000</td>\n",
       "      <td>...</td>\n",
       "      <td>1.000000</td>\n",
       "      <td>1.000000e+00</td>\n",
       "      <td>20.000000</td>\n",
       "      <td>2.000000</td>\n",
       "      <td>2.000000</td>\n",
       "      <td>2.000000</td>\n",
       "      <td>2.000000</td>\n",
       "      <td>2.000000</td>\n",
       "      <td>2.000000</td>\n",
       "      <td>NaN</td>\n",
       "    </tr>\n",
       "    <tr>\n",
       "      <th>25%</th>\n",
       "      <td>1.384462e+07</td>\n",
       "      <td>NaN</td>\n",
       "      <td>1.720656e+07</td>\n",
       "      <td>NaN</td>\n",
       "      <td>NaN</td>\n",
       "      <td>NaN</td>\n",
       "      <td>0.900000</td>\n",
       "      <td>0.780000</td>\n",
       "      <td>NaN</td>\n",
       "      <td>1.000000</td>\n",
       "      <td>...</td>\n",
       "      <td>1.000000</td>\n",
       "      <td>4.500000e+01</td>\n",
       "      <td>91.000000</td>\n",
       "      <td>9.000000</td>\n",
       "      <td>9.000000</td>\n",
       "      <td>10.000000</td>\n",
       "      <td>10.000000</td>\n",
       "      <td>9.000000</td>\n",
       "      <td>9.000000</td>\n",
       "      <td>NaN</td>\n",
       "    </tr>\n",
       "    <tr>\n",
       "      <th>50%</th>\n",
       "      <td>2.767098e+07</td>\n",
       "      <td>NaN</td>\n",
       "      <td>5.826911e+07</td>\n",
       "      <td>NaN</td>\n",
       "      <td>NaN</td>\n",
       "      <td>NaN</td>\n",
       "      <td>1.000000</td>\n",
       "      <td>0.980000</td>\n",
       "      <td>NaN</td>\n",
       "      <td>1.000000</td>\n",
       "      <td>...</td>\n",
       "      <td>2.000000</td>\n",
       "      <td>1.125000e+03</td>\n",
       "      <td>96.000000</td>\n",
       "      <td>10.000000</td>\n",
       "      <td>10.000000</td>\n",
       "      <td>10.000000</td>\n",
       "      <td>10.000000</td>\n",
       "      <td>10.000000</td>\n",
       "      <td>10.000000</td>\n",
       "      <td>NaN</td>\n",
       "    </tr>\n",
       "    <tr>\n",
       "      <th>75%</th>\n",
       "      <td>3.978485e+07</td>\n",
       "      <td>NaN</td>\n",
       "      <td>1.832853e+08</td>\n",
       "      <td>NaN</td>\n",
       "      <td>NaN</td>\n",
       "      <td>NaN</td>\n",
       "      <td>1.000000</td>\n",
       "      <td>1.000000</td>\n",
       "      <td>NaN</td>\n",
       "      <td>4.000000</td>\n",
       "      <td>...</td>\n",
       "      <td>5.000000</td>\n",
       "      <td>1.125000e+03</td>\n",
       "      <td>100.000000</td>\n",
       "      <td>10.000000</td>\n",
       "      <td>10.000000</td>\n",
       "      <td>10.000000</td>\n",
       "      <td>10.000000</td>\n",
       "      <td>10.000000</td>\n",
       "      <td>10.000000</td>\n",
       "      <td>NaN</td>\n",
       "    </tr>\n",
       "    <tr>\n",
       "      <th>max</th>\n",
       "      <td>4.834353e+07</td>\n",
       "      <td>NaN</td>\n",
       "      <td>3.901874e+08</td>\n",
       "      <td>NaN</td>\n",
       "      <td>NaN</td>\n",
       "      <td>NaN</td>\n",
       "      <td>1.000000</td>\n",
       "      <td>1.000000</td>\n",
       "      <td>NaN</td>\n",
       "      <td>7235.000000</td>\n",
       "      <td>...</td>\n",
       "      <td>9999.000000</td>\n",
       "      <td>2.147484e+09</td>\n",
       "      <td>100.000000</td>\n",
       "      <td>10.000000</td>\n",
       "      <td>10.000000</td>\n",
       "      <td>10.000000</td>\n",
       "      <td>10.000000</td>\n",
       "      <td>10.000000</td>\n",
       "      <td>10.000000</td>\n",
       "      <td>NaN</td>\n",
       "    </tr>\n",
       "  </tbody>\n",
       "</table>\n",
       "<p>11 rows × 33 columns</p>\n",
       "</div>"
      ],
      "text/plain": [
       "          listing_id                 name       host_id  host_since  \\\n",
       "count   2.797120e+05               279539  2.797120e+05      279547   \n",
       "unique           NaN               265861           NaN        4240   \n",
       "top              NaN  home away from home           NaN  2019-09-02   \n",
       "freq             NaN                   98           NaN         710   \n",
       "mean    2.638196e+07                  NaN  1.081658e+08         NaN   \n",
       "std     1.442576e+07                  NaN  1.108570e+08         NaN   \n",
       "min     2.577000e+03                  NaN  1.822000e+03         NaN   \n",
       "25%     1.384462e+07                  NaN  1.720656e+07         NaN   \n",
       "50%     2.767098e+07                  NaN  5.826911e+07         NaN   \n",
       "75%     3.978485e+07                  NaN  1.832853e+08         NaN   \n",
       "max     4.834353e+07                  NaN  3.901874e+08         NaN   \n",
       "\n",
       "                       host_location host_response_time  host_response_rate  \\\n",
       "count                         278872             150930       150930.000000   \n",
       "unique                          7159                  4                 NaN   \n",
       "top     Paris, Ile-de-France, France     within an hour                 NaN   \n",
       "freq                           47794              83464                 NaN   \n",
       "mean                             NaN                NaN            0.865939   \n",
       "std                              NaN                NaN            0.283744   \n",
       "min                              NaN                NaN            0.000000   \n",
       "25%                              NaN                NaN            0.900000   \n",
       "50%                              NaN                NaN            1.000000   \n",
       "75%                              NaN                NaN            1.000000   \n",
       "max                              NaN                NaN            1.000000   \n",
       "\n",
       "        host_acceptance_rate host_is_superhost  host_total_listings_count  \\\n",
       "count          166625.000000            279547              279547.000000   \n",
       "unique                   NaN                 2                        NaN   \n",
       "top                      NaN                 f                        NaN   \n",
       "freq                     NaN            229294                        NaN   \n",
       "mean                0.827168               NaN                  24.581612   \n",
       "std                 0.289202               NaN                 284.041143   \n",
       "min                 0.000000               NaN                   0.000000   \n",
       "25%                 0.780000               NaN                   1.000000   \n",
       "50%                 0.980000               NaN                   1.000000   \n",
       "75%                 1.000000               NaN                   4.000000   \n",
       "max                 1.000000               NaN                7235.000000   \n",
       "\n",
       "        ... minimum_nights maximum_nights review_scores_rating  \\\n",
       "count   ...  279712.000000   2.797120e+05        188307.000000   \n",
       "unique  ...            NaN            NaN                  NaN   \n",
       "top     ...            NaN            NaN                  NaN   \n",
       "freq    ...            NaN            NaN                  NaN   \n",
       "mean    ...       8.050967   2.755860e+04            93.405195   \n",
       "std     ...      31.518946   7.282875e+06            10.070437   \n",
       "min     ...       1.000000   1.000000e+00            20.000000   \n",
       "25%     ...       1.000000   4.500000e+01            91.000000   \n",
       "50%     ...       2.000000   1.125000e+03            96.000000   \n",
       "75%     ...       5.000000   1.125000e+03           100.000000   \n",
       "max     ...    9999.000000   2.147484e+09           100.000000   \n",
       "\n",
       "       review_scores_accuracy review_scores_cleanliness  \\\n",
       "count           187999.000000             188047.000000   \n",
       "unique                    NaN                       NaN   \n",
       "top                       NaN                       NaN   \n",
       "freq                      NaN                       NaN   \n",
       "mean                 9.565476                  9.312869   \n",
       "std                  0.990878                  1.146072   \n",
       "min                  2.000000                  2.000000   \n",
       "25%                  9.000000                  9.000000   \n",
       "50%                 10.000000                 10.000000   \n",
       "75%                 10.000000                 10.000000   \n",
       "max                 10.000000                 10.000000   \n",
       "\n",
       "        review_scores_checkin  review_scores_communication  \\\n",
       "count           187941.000000                188025.000000   \n",
       "unique                    NaN                          NaN   \n",
       "top                       NaN                          NaN   \n",
       "freq                      NaN                          NaN   \n",
       "mean                 9.701534                     9.698593   \n",
       "std                  0.867434                     0.886884   \n",
       "min                  2.000000                     2.000000   \n",
       "25%                 10.000000                    10.000000   \n",
       "50%                 10.000000                    10.000000   \n",
       "75%                 10.000000                    10.000000   \n",
       "max                 10.000000                    10.000000   \n",
       "\n",
       "       review_scores_location review_scores_value  instant_bookable  \n",
       "count           187937.000000       187927.000000            279712  \n",
       "unique                    NaN                 NaN                 2  \n",
       "top                       NaN                 NaN                 f  \n",
       "freq                      NaN                 NaN            164105  \n",
       "mean                 9.633994            9.335364               NaN  \n",
       "std                  0.833234            1.042625               NaN  \n",
       "min                  2.000000            2.000000               NaN  \n",
       "25%                  9.000000            9.000000               NaN  \n",
       "50%                 10.000000           10.000000               NaN  \n",
       "75%                 10.000000           10.000000               NaN  \n",
       "max                 10.000000           10.000000               NaN  \n",
       "\n",
       "[11 rows x 33 columns]"
      ]
     },
     "execution_count": 10,
     "metadata": {},
     "output_type": "execute_result"
    }
   ],
   "source": [
    "#we observe the various statistics summary, excluding NaN (Not a Number) values\n",
    "#however, these are shown only for numeric-type columns such as int and float\n",
    "#use the following function to include all columns \n",
    "\n",
    "df.describe(include=\"all\")"
   ]
  },
  {
   "cell_type": "code",
   "execution_count": 11,
   "metadata": {},
   "outputs": [],
   "source": [
    "#statics summary for object-typed attributes includes:\n",
    "#how many unique values, which is the top value and the frequency of top value in the object-typed columns\n",
    "#some values show as \"NaN\" and this is because those numbers are not available regarding a particular column type "
   ]
  },
  {
   "cell_type": "markdown",
   "metadata": {},
   "source": [
    "**Observations after statistics summary:**\n",
    "\n",
    "* a lot of hosts joined in September 2019\n",
    "* the most common host_location is Paris \n",
    "* hosts respond quickly, the majority of them within an hour, resulting in an overall good response, this being highlighted in the response rate as well\n",
    "* host_response_rate shows that even if the min is 0, just 25% of records are under 0.9, which is a really good rate, it shows responsability and seriousness from hosts\n",
    "* host_acceptance_rate has an overall good rate, showing that only 25% of hosts are more selective (rate 0.78) and the rest accept approximately all (rate 0.98, respectively 1)\n",
    "* most of the hosts are not superhosts \n",
    "* 50% of hosts have only 1 listing, max value 7235 which we need to investigate (potential outlier)\n",
    "* 75% of listings can accomodate up to 4 guests and the max number of guests possible to accomodate is 16 in some cases\n",
    "* 75% of accomodations offer up to 2 bedrooms and the max value is 50 which we need to investigate to check if outlier or not\n",
    "* price recorded in some cases is 0 as observed with the min, which would need to be removed as our goal is to analyze the price influencing factors and if the listing doesn't have a price, these records are redundant \n",
    "* max value for minimum_nights is 9999 which looks like an outlier, we'll investigate closer in the next steps\n",
    "* min review score rating is 20 with but the majority of reviews are above 90, which shows good feedback about listings overall\n",
    "* similar results observed in all review related columns, strengthening the facts "
   ]
  },
  {
   "cell_type": "markdown",
   "metadata": {},
   "source": [
    "**Evaluating for missing data**\n",
    "\n",
    "Next step is to evaluate the missing values. We use the one of the 2 methods to identify these:\n",
    "\n",
    "* .isnull()\n",
    "\n",
    "* .notnull()\n",
    "\n",
    "The output is a boolean value indicating whether the value that is passed into the argument is in fact missing data."
   ]
  },
  {
   "cell_type": "code",
   "execution_count": 12,
   "metadata": {},
   "outputs": [
    {
     "data": {
      "text/html": [
       "<div>\n",
       "<style scoped>\n",
       "    .dataframe tbody tr th:only-of-type {\n",
       "        vertical-align: middle;\n",
       "    }\n",
       "\n",
       "    .dataframe tbody tr th {\n",
       "        vertical-align: top;\n",
       "    }\n",
       "\n",
       "    .dataframe thead th {\n",
       "        text-align: right;\n",
       "    }\n",
       "</style>\n",
       "<table border=\"1\" class=\"dataframe\">\n",
       "  <thead>\n",
       "    <tr style=\"text-align: right;\">\n",
       "      <th></th>\n",
       "      <th>listing_id</th>\n",
       "      <th>name</th>\n",
       "      <th>host_id</th>\n",
       "      <th>host_since</th>\n",
       "      <th>host_location</th>\n",
       "      <th>host_response_time</th>\n",
       "      <th>host_response_rate</th>\n",
       "      <th>host_acceptance_rate</th>\n",
       "      <th>host_is_superhost</th>\n",
       "      <th>host_total_listings_count</th>\n",
       "      <th>...</th>\n",
       "      <th>minimum_nights</th>\n",
       "      <th>maximum_nights</th>\n",
       "      <th>review_scores_rating</th>\n",
       "      <th>review_scores_accuracy</th>\n",
       "      <th>review_scores_cleanliness</th>\n",
       "      <th>review_scores_checkin</th>\n",
       "      <th>review_scores_communication</th>\n",
       "      <th>review_scores_location</th>\n",
       "      <th>review_scores_value</th>\n",
       "      <th>instant_bookable</th>\n",
       "    </tr>\n",
       "  </thead>\n",
       "  <tbody>\n",
       "    <tr>\n",
       "      <th>0</th>\n",
       "      <td>False</td>\n",
       "      <td>False</td>\n",
       "      <td>False</td>\n",
       "      <td>False</td>\n",
       "      <td>False</td>\n",
       "      <td>True</td>\n",
       "      <td>True</td>\n",
       "      <td>True</td>\n",
       "      <td>False</td>\n",
       "      <td>False</td>\n",
       "      <td>...</td>\n",
       "      <td>False</td>\n",
       "      <td>False</td>\n",
       "      <td>False</td>\n",
       "      <td>False</td>\n",
       "      <td>False</td>\n",
       "      <td>False</td>\n",
       "      <td>False</td>\n",
       "      <td>False</td>\n",
       "      <td>False</td>\n",
       "      <td>False</td>\n",
       "    </tr>\n",
       "    <tr>\n",
       "      <th>1</th>\n",
       "      <td>False</td>\n",
       "      <td>False</td>\n",
       "      <td>False</td>\n",
       "      <td>False</td>\n",
       "      <td>False</td>\n",
       "      <td>True</td>\n",
       "      <td>True</td>\n",
       "      <td>True</td>\n",
       "      <td>False</td>\n",
       "      <td>False</td>\n",
       "      <td>...</td>\n",
       "      <td>False</td>\n",
       "      <td>False</td>\n",
       "      <td>False</td>\n",
       "      <td>False</td>\n",
       "      <td>False</td>\n",
       "      <td>False</td>\n",
       "      <td>False</td>\n",
       "      <td>False</td>\n",
       "      <td>False</td>\n",
       "      <td>False</td>\n",
       "    </tr>\n",
       "    <tr>\n",
       "      <th>2</th>\n",
       "      <td>False</td>\n",
       "      <td>False</td>\n",
       "      <td>False</td>\n",
       "      <td>False</td>\n",
       "      <td>False</td>\n",
       "      <td>True</td>\n",
       "      <td>True</td>\n",
       "      <td>True</td>\n",
       "      <td>False</td>\n",
       "      <td>False</td>\n",
       "      <td>...</td>\n",
       "      <td>False</td>\n",
       "      <td>False</td>\n",
       "      <td>False</td>\n",
       "      <td>False</td>\n",
       "      <td>False</td>\n",
       "      <td>False</td>\n",
       "      <td>False</td>\n",
       "      <td>False</td>\n",
       "      <td>False</td>\n",
       "      <td>False</td>\n",
       "    </tr>\n",
       "    <tr>\n",
       "      <th>3</th>\n",
       "      <td>False</td>\n",
       "      <td>False</td>\n",
       "      <td>False</td>\n",
       "      <td>False</td>\n",
       "      <td>False</td>\n",
       "      <td>True</td>\n",
       "      <td>True</td>\n",
       "      <td>True</td>\n",
       "      <td>False</td>\n",
       "      <td>False</td>\n",
       "      <td>...</td>\n",
       "      <td>False</td>\n",
       "      <td>False</td>\n",
       "      <td>False</td>\n",
       "      <td>False</td>\n",
       "      <td>False</td>\n",
       "      <td>False</td>\n",
       "      <td>False</td>\n",
       "      <td>False</td>\n",
       "      <td>False</td>\n",
       "      <td>False</td>\n",
       "    </tr>\n",
       "    <tr>\n",
       "      <th>4</th>\n",
       "      <td>False</td>\n",
       "      <td>False</td>\n",
       "      <td>False</td>\n",
       "      <td>False</td>\n",
       "      <td>False</td>\n",
       "      <td>True</td>\n",
       "      <td>True</td>\n",
       "      <td>True</td>\n",
       "      <td>False</td>\n",
       "      <td>False</td>\n",
       "      <td>...</td>\n",
       "      <td>False</td>\n",
       "      <td>False</td>\n",
       "      <td>False</td>\n",
       "      <td>False</td>\n",
       "      <td>False</td>\n",
       "      <td>False</td>\n",
       "      <td>False</td>\n",
       "      <td>False</td>\n",
       "      <td>False</td>\n",
       "      <td>False</td>\n",
       "    </tr>\n",
       "    <tr>\n",
       "      <th>...</th>\n",
       "      <td>...</td>\n",
       "      <td>...</td>\n",
       "      <td>...</td>\n",
       "      <td>...</td>\n",
       "      <td>...</td>\n",
       "      <td>...</td>\n",
       "      <td>...</td>\n",
       "      <td>...</td>\n",
       "      <td>...</td>\n",
       "      <td>...</td>\n",
       "      <td>...</td>\n",
       "      <td>...</td>\n",
       "      <td>...</td>\n",
       "      <td>...</td>\n",
       "      <td>...</td>\n",
       "      <td>...</td>\n",
       "      <td>...</td>\n",
       "      <td>...</td>\n",
       "      <td>...</td>\n",
       "      <td>...</td>\n",
       "      <td>...</td>\n",
       "    </tr>\n",
       "    <tr>\n",
       "      <th>279707</th>\n",
       "      <td>False</td>\n",
       "      <td>False</td>\n",
       "      <td>False</td>\n",
       "      <td>False</td>\n",
       "      <td>False</td>\n",
       "      <td>True</td>\n",
       "      <td>True</td>\n",
       "      <td>True</td>\n",
       "      <td>False</td>\n",
       "      <td>False</td>\n",
       "      <td>...</td>\n",
       "      <td>False</td>\n",
       "      <td>False</td>\n",
       "      <td>False</td>\n",
       "      <td>False</td>\n",
       "      <td>False</td>\n",
       "      <td>False</td>\n",
       "      <td>False</td>\n",
       "      <td>False</td>\n",
       "      <td>False</td>\n",
       "      <td>False</td>\n",
       "    </tr>\n",
       "    <tr>\n",
       "      <th>279708</th>\n",
       "      <td>False</td>\n",
       "      <td>False</td>\n",
       "      <td>False</td>\n",
       "      <td>False</td>\n",
       "      <td>False</td>\n",
       "      <td>True</td>\n",
       "      <td>True</td>\n",
       "      <td>True</td>\n",
       "      <td>False</td>\n",
       "      <td>False</td>\n",
       "      <td>...</td>\n",
       "      <td>False</td>\n",
       "      <td>False</td>\n",
       "      <td>False</td>\n",
       "      <td>False</td>\n",
       "      <td>False</td>\n",
       "      <td>False</td>\n",
       "      <td>False</td>\n",
       "      <td>False</td>\n",
       "      <td>False</td>\n",
       "      <td>False</td>\n",
       "    </tr>\n",
       "    <tr>\n",
       "      <th>279709</th>\n",
       "      <td>False</td>\n",
       "      <td>False</td>\n",
       "      <td>False</td>\n",
       "      <td>False</td>\n",
       "      <td>False</td>\n",
       "      <td>True</td>\n",
       "      <td>True</td>\n",
       "      <td>True</td>\n",
       "      <td>False</td>\n",
       "      <td>False</td>\n",
       "      <td>...</td>\n",
       "      <td>False</td>\n",
       "      <td>False</td>\n",
       "      <td>False</td>\n",
       "      <td>False</td>\n",
       "      <td>False</td>\n",
       "      <td>False</td>\n",
       "      <td>False</td>\n",
       "      <td>False</td>\n",
       "      <td>False</td>\n",
       "      <td>False</td>\n",
       "    </tr>\n",
       "    <tr>\n",
       "      <th>279710</th>\n",
       "      <td>False</td>\n",
       "      <td>False</td>\n",
       "      <td>False</td>\n",
       "      <td>False</td>\n",
       "      <td>False</td>\n",
       "      <td>True</td>\n",
       "      <td>True</td>\n",
       "      <td>True</td>\n",
       "      <td>False</td>\n",
       "      <td>False</td>\n",
       "      <td>...</td>\n",
       "      <td>False</td>\n",
       "      <td>False</td>\n",
       "      <td>False</td>\n",
       "      <td>False</td>\n",
       "      <td>False</td>\n",
       "      <td>False</td>\n",
       "      <td>False</td>\n",
       "      <td>False</td>\n",
       "      <td>False</td>\n",
       "      <td>False</td>\n",
       "    </tr>\n",
       "    <tr>\n",
       "      <th>279711</th>\n",
       "      <td>False</td>\n",
       "      <td>False</td>\n",
       "      <td>False</td>\n",
       "      <td>False</td>\n",
       "      <td>False</td>\n",
       "      <td>True</td>\n",
       "      <td>True</td>\n",
       "      <td>True</td>\n",
       "      <td>False</td>\n",
       "      <td>False</td>\n",
       "      <td>...</td>\n",
       "      <td>False</td>\n",
       "      <td>False</td>\n",
       "      <td>False</td>\n",
       "      <td>False</td>\n",
       "      <td>False</td>\n",
       "      <td>False</td>\n",
       "      <td>False</td>\n",
       "      <td>False</td>\n",
       "      <td>False</td>\n",
       "      <td>False</td>\n",
       "    </tr>\n",
       "  </tbody>\n",
       "</table>\n",
       "<p>279712 rows × 33 columns</p>\n",
       "</div>"
      ],
      "text/plain": [
       "        listing_id   name  host_id  host_since  host_location  \\\n",
       "0            False  False    False       False          False   \n",
       "1            False  False    False       False          False   \n",
       "2            False  False    False       False          False   \n",
       "3            False  False    False       False          False   \n",
       "4            False  False    False       False          False   \n",
       "...            ...    ...      ...         ...            ...   \n",
       "279707       False  False    False       False          False   \n",
       "279708       False  False    False       False          False   \n",
       "279709       False  False    False       False          False   \n",
       "279710       False  False    False       False          False   \n",
       "279711       False  False    False       False          False   \n",
       "\n",
       "        host_response_time  host_response_rate  host_acceptance_rate  \\\n",
       "0                     True                True                  True   \n",
       "1                     True                True                  True   \n",
       "2                     True                True                  True   \n",
       "3                     True                True                  True   \n",
       "4                     True                True                  True   \n",
       "...                    ...                 ...                   ...   \n",
       "279707                True                True                  True   \n",
       "279708                True                True                  True   \n",
       "279709                True                True                  True   \n",
       "279710                True                True                  True   \n",
       "279711                True                True                  True   \n",
       "\n",
       "        host_is_superhost  host_total_listings_count  ...  minimum_nights  \\\n",
       "0                   False                      False  ...           False   \n",
       "1                   False                      False  ...           False   \n",
       "2                   False                      False  ...           False   \n",
       "3                   False                      False  ...           False   \n",
       "4                   False                      False  ...           False   \n",
       "...                   ...                        ...  ...             ...   \n",
       "279707              False                      False  ...           False   \n",
       "279708              False                      False  ...           False   \n",
       "279709              False                      False  ...           False   \n",
       "279710              False                      False  ...           False   \n",
       "279711              False                      False  ...           False   \n",
       "\n",
       "        maximum_nights  review_scores_rating  review_scores_accuracy  \\\n",
       "0                False                 False                   False   \n",
       "1                False                 False                   False   \n",
       "2                False                 False                   False   \n",
       "3                False                 False                   False   \n",
       "4                False                 False                   False   \n",
       "...                ...                   ...                     ...   \n",
       "279707           False                 False                   False   \n",
       "279708           False                 False                   False   \n",
       "279709           False                 False                   False   \n",
       "279710           False                 False                   False   \n",
       "279711           False                 False                   False   \n",
       "\n",
       "        review_scores_cleanliness  review_scores_checkin  \\\n",
       "0                           False                  False   \n",
       "1                           False                  False   \n",
       "2                           False                  False   \n",
       "3                           False                  False   \n",
       "4                           False                  False   \n",
       "...                           ...                    ...   \n",
       "279707                      False                  False   \n",
       "279708                      False                  False   \n",
       "279709                      False                  False   \n",
       "279710                      False                  False   \n",
       "279711                      False                  False   \n",
       "\n",
       "        review_scores_communication  review_scores_location  \\\n",
       "0                             False                   False   \n",
       "1                             False                   False   \n",
       "2                             False                   False   \n",
       "3                             False                   False   \n",
       "4                             False                   False   \n",
       "...                             ...                     ...   \n",
       "279707                        False                   False   \n",
       "279708                        False                   False   \n",
       "279709                        False                   False   \n",
       "279710                        False                   False   \n",
       "279711                        False                   False   \n",
       "\n",
       "        review_scores_value  instant_bookable  \n",
       "0                     False             False  \n",
       "1                     False             False  \n",
       "2                     False             False  \n",
       "3                     False             False  \n",
       "4                     False             False  \n",
       "...                     ...               ...  \n",
       "279707                False             False  \n",
       "279708                False             False  \n",
       "279709                False             False  \n",
       "279710                False             False  \n",
       "279711                False             False  \n",
       "\n",
       "[279712 rows x 33 columns]"
      ]
     },
     "execution_count": 12,
     "metadata": {},
     "output_type": "execute_result"
    }
   ],
   "source": [
    "missing_data = df.isnull()\n",
    "missing_data"
   ]
  },
  {
   "cell_type": "markdown",
   "metadata": {},
   "source": [
    "**Count missing values in each column**\n",
    "\n",
    "Using a for loop in Python, we can quickly figure out the number of missing values in each column. \n",
    "\n",
    "As mentioned above, \"True\" represents a missing value, \"False\" means the value is present in the dataset. \n",
    "\n",
    "In the body of the for loop the method \".value_counts()\" counts the number of \"True\" values."
   ]
  },
  {
   "cell_type": "code",
   "execution_count": 13,
   "metadata": {},
   "outputs": [
    {
     "name": "stdout",
     "output_type": "stream",
     "text": [
      "listing_id\n",
      "False    279712\n",
      "Name: listing_id, dtype: int64\n",
      "\n",
      "name\n",
      "False    279539\n",
      "True        173\n",
      "Name: name, dtype: int64\n",
      "\n",
      "host_id\n",
      "False    279712\n",
      "Name: host_id, dtype: int64\n",
      "\n",
      "host_since\n",
      "False    279547\n",
      "True        165\n",
      "Name: host_since, dtype: int64\n",
      "\n",
      "host_location\n",
      "False    278872\n",
      "True        840\n",
      "Name: host_location, dtype: int64\n",
      "\n",
      "host_response_time\n",
      "False    150930\n",
      "True     128782\n",
      "Name: host_response_time, dtype: int64\n",
      "\n",
      "host_response_rate\n",
      "False    150930\n",
      "True     128782\n",
      "Name: host_response_rate, dtype: int64\n",
      "\n",
      "host_acceptance_rate\n",
      "False    166625\n",
      "True     113087\n",
      "Name: host_acceptance_rate, dtype: int64\n",
      "\n",
      "host_is_superhost\n",
      "False    279547\n",
      "True        165\n",
      "Name: host_is_superhost, dtype: int64\n",
      "\n",
      "host_total_listings_count\n",
      "False    279547\n",
      "True        165\n",
      "Name: host_total_listings_count, dtype: int64\n",
      "\n",
      "host_has_profile_pic\n",
      "False    279547\n",
      "True        165\n",
      "Name: host_has_profile_pic, dtype: int64\n",
      "\n",
      "host_identity_verified\n",
      "False    279547\n",
      "True        165\n",
      "Name: host_identity_verified, dtype: int64\n",
      "\n",
      "neighbourhood\n",
      "False    279712\n",
      "Name: neighbourhood, dtype: int64\n",
      "\n",
      "district\n",
      "True     242700\n",
      "False     37012\n",
      "Name: district, dtype: int64\n",
      "\n",
      "city\n",
      "False    279712\n",
      "Name: city, dtype: int64\n",
      "\n",
      "latitude\n",
      "False    279712\n",
      "Name: latitude, dtype: int64\n",
      "\n",
      "longitude\n",
      "False    279712\n",
      "Name: longitude, dtype: int64\n",
      "\n",
      "property_type\n",
      "False    279712\n",
      "Name: property_type, dtype: int64\n",
      "\n",
      "room_type\n",
      "False    279712\n",
      "Name: room_type, dtype: int64\n",
      "\n",
      "accommodates\n",
      "False    279712\n",
      "Name: accommodates, dtype: int64\n",
      "\n",
      "bedrooms\n",
      "False    250277\n",
      "True      29435\n",
      "Name: bedrooms, dtype: int64\n",
      "\n",
      "amenities\n",
      "False    279712\n",
      "Name: amenities, dtype: int64\n",
      "\n",
      "price\n",
      "False    279712\n",
      "Name: price, dtype: int64\n",
      "\n",
      "minimum_nights\n",
      "False    279712\n",
      "Name: minimum_nights, dtype: int64\n",
      "\n",
      "maximum_nights\n",
      "False    279712\n",
      "Name: maximum_nights, dtype: int64\n",
      "\n",
      "review_scores_rating\n",
      "False    188307\n",
      "True      91405\n",
      "Name: review_scores_rating, dtype: int64\n",
      "\n",
      "review_scores_accuracy\n",
      "False    187999\n",
      "True      91713\n",
      "Name: review_scores_accuracy, dtype: int64\n",
      "\n",
      "review_scores_cleanliness\n",
      "False    188047\n",
      "True      91665\n",
      "Name: review_scores_cleanliness, dtype: int64\n",
      "\n",
      "review_scores_checkin\n",
      "False    187941\n",
      "True      91771\n",
      "Name: review_scores_checkin, dtype: int64\n",
      "\n",
      "review_scores_communication\n",
      "False    188025\n",
      "True      91687\n",
      "Name: review_scores_communication, dtype: int64\n",
      "\n",
      "review_scores_location\n",
      "False    187937\n",
      "True      91775\n",
      "Name: review_scores_location, dtype: int64\n",
      "\n",
      "review_scores_value\n",
      "False    187927\n",
      "True      91785\n",
      "Name: review_scores_value, dtype: int64\n",
      "\n",
      "instant_bookable\n",
      "False    279712\n",
      "Name: instant_bookable, dtype: int64\n",
      "\n"
     ]
    }
   ],
   "source": [
    "for column in missing_data.columns.values.tolist():\n",
    "    print(column)\n",
    "    print (missing_data[column].value_counts())\n",
    "    print(\"\")"
   ]
  },
  {
   "cell_type": "markdown",
   "metadata": {},
   "source": [
    "Based on the above output, the following include null values: \n",
    "\n",
    "* columns with categorical values:\n",
    "  * name \n",
    "  * host_since\n",
    "  * host_location\n",
    "  * host_response_time\n",
    "  * host_is_superhost\n",
    "  * host_has_profile_pic\n",
    "  * host_identity_verified\n",
    "  * district\n",
    "  \n",
    "  \n",
    "* columns with numerical values:\n",
    "  * host_response_rate\n",
    "  * host_acceptance_rate\n",
    "  * host_total_listings_count\n",
    "  * bedrooms\n",
    "  * review_scores_rating\n",
    "  * review_scores_accuracy\n",
    "  * review_scores_cleanliness\n",
    "  * review_scores_checkin\n",
    "  * review_scores_communication\n",
    "  * review_scores_location\n",
    "  * review_scores_value\n",
    "\n",
    "18 columns out of 33 contain null values"
   ]
  },
  {
   "cell_type": "markdown",
   "metadata": {},
   "source": [
    "Keep in mind that based on the statistics summary, we know that the following columns have 0 values, not counted as missing values, but in context represent null values: \n",
    "\n",
    "* accomodates\n",
    "* price "
   ]
  },
  {
   "cell_type": "markdown",
   "metadata": {},
   "source": [
    "**Deal with missing values**\n",
    "\n",
    "* drop data\n",
    "  * drop the whole row\n",
    "  * drop the whole column\n",
    "* replace data (depending on data type)\n",
    "  * replace it by mean if numerical value\n",
    "  * replace it by frequency if categorical value\n",
    "  * replace it based on other functions"
   ]
  },
  {
   "cell_type": "markdown",
   "metadata": {},
   "source": [
    "We'll address first the **categorical values** missing."
   ]
  },
  {
   "cell_type": "code",
   "execution_count": 14,
   "metadata": {},
   "outputs": [
    {
     "data": {
      "text/plain": [
       "home away from home                                   98\n",
       "Home sweet home                                       80\n",
       "Private Room                                          59\n",
       "Perfect Loft great location                           55\n",
       "New!  La Chada Night Market studio 2PPL near MRT      48\n",
       "                                                      ..\n",
       "City Apartment. Close to china town + FREE PARKING     1\n",
       "The Square 101 Superior studio 305 (Small Balcony)     1\n",
       "ROOM WITH BREAKFAST                                    1\n",
       "Historic Brownstone in Harlem                          1\n",
       "condo cani 701                                         1\n",
       "Name: name, Length: 265861, dtype: int64"
      ]
     },
     "execution_count": 14,
     "metadata": {},
     "output_type": "execute_result"
    }
   ],
   "source": [
    "#first on the list is the name columns\n",
    "#we know already from the statistics summary that the most frequent value in this column is \"home away from home\"\n",
    "#by using value_counts() I'm checking what other values are most common \n",
    "\n",
    "df['name'].value_counts()"
   ]
  },
  {
   "cell_type": "code",
   "execution_count": 15,
   "metadata": {
    "scrolled": false
   },
   "outputs": [],
   "source": [
    "#replace missing values with \"home away from home\"\n",
    "\n",
    "df['name'] = df['name'].replace(np.nan, 'home away from home')"
   ]
  },
  {
   "cell_type": "code",
   "execution_count": 16,
   "metadata": {},
   "outputs": [
    {
     "data": {
      "text/plain": [
       "home away from home                                   271\n",
       "Home sweet home                                        80\n",
       "Private Room                                           59\n",
       "Perfect Loft great location                            55\n",
       "New!  La Chada Night Market studio 2PPL near MRT       48\n",
       "                                                     ... \n",
       "City Apartment. Close to china town + FREE PARKING      1\n",
       "The Square 101 Superior studio 305 (Small Balcony)      1\n",
       "ROOM WITH BREAKFAST                                     1\n",
       "Historic Brownstone in Harlem                           1\n",
       "condo cani 701                                          1\n",
       "Name: name, Length: 265861, dtype: int64"
      ]
     },
     "execution_count": 16,
     "metadata": {},
     "output_type": "execute_result"
    }
   ],
   "source": [
    "#since we had 173 missing values in name column, after the change we should have 271 records for \"home away from home\" \n",
    "#verifying with value_counts()\n",
    "\n",
    "df['name'].value_counts()"
   ]
  },
  {
   "cell_type": "code",
   "execution_count": 17,
   "metadata": {},
   "outputs": [
    {
     "data": {
      "text/plain": [
       "2019-09-02    710\n",
       "2018-02-24    463\n",
       "2013-07-16    463\n",
       "2016-09-29    415\n",
       "2015-12-16    368\n",
       "             ... \n",
       "2009-05-21      1\n",
       "2009-07-28      1\n",
       "2010-01-26      1\n",
       "2009-12-14      1\n",
       "2009-09-09      1\n",
       "Name: host_since, Length: 4240, dtype: int64"
      ]
     },
     "execution_count": 17,
     "metadata": {},
     "output_type": "execute_result"
    }
   ],
   "source": [
    "#we move onto the next column on the list host_since with 165 missing values\n",
    "\n",
    "df['host_since'].value_counts()"
   ]
  },
  {
   "cell_type": "markdown",
   "metadata": {},
   "source": [
    "What I'm thinking is that I don't want to lose the records without date, but I don't want to replace the NaN with the most frequent value, because it will affect the analysis later. I think the best option at this point is replacing it with today's date. \n",
    "\n",
    "After analyzing the main influencing factors of price, I might consider dropping these records with NaN/today's date in case I use host_since for this purpose. We'll review this later based on analysis. "
   ]
  },
  {
   "cell_type": "code",
   "execution_count": 18,
   "metadata": {},
   "outputs": [],
   "source": [
    "#first import date library \n",
    "\n",
    "from datetime import date"
   ]
  },
  {
   "cell_type": "code",
   "execution_count": 19,
   "metadata": {},
   "outputs": [
    {
     "name": "stdout",
     "output_type": "stream",
     "text": [
      "2021-04-25\n"
     ]
    }
   ],
   "source": [
    "#get today's date 2021-04-21\n",
    "\n",
    "today = str(date.today())\n",
    "print(today)"
   ]
  },
  {
   "cell_type": "code",
   "execution_count": 20,
   "metadata": {},
   "outputs": [],
   "source": [
    "#replace NaN with today's date\n",
    "\n",
    "df['host_since'] = df['host_since'].replace(np.nan,today)"
   ]
  },
  {
   "cell_type": "code",
   "execution_count": 21,
   "metadata": {},
   "outputs": [
    {
     "data": {
      "text/plain": [
       "Paris, Ile-de-France, France                         47794\n",
       "New York, New York, United States                    24040\n",
       "Rome, Lazio, Italy                                   20138\n",
       "Cape Town, Western Cape, South Africa                13602\n",
       "Rio de Janeiro, State of Rio de Janeiro, Brazil      13211\n",
       "                                                     ...  \n",
       "Puiseaux, Centre, France                                 1\n",
       "Chabournay, Poitou-Charentes, France                     1\n",
       "BTS Wong Wien Yai                                        1\n",
       "Clairefontaine-en-Yvelines, Ile-de-France, France        1\n",
       "ValÃÂ¨ncia, Comunidad Valenciana, Spain                 1\n",
       "Name: host_location, Length: 7159, dtype: int64"
      ]
     },
     "execution_count": 21,
     "metadata": {},
     "output_type": "execute_result"
    }
   ],
   "source": [
    "#next we look at host_location with 840 missing values\n",
    "\n",
    "df['host_location'].value_counts()"
   ]
  },
  {
   "cell_type": "markdown",
   "metadata": {},
   "source": [
    "Same as host_since, I don't want to drop the records and lose potential good data. I will not replace with the most frequent value, rather with 'unknown'. \n",
    "\n",
    "We'll reconsider this step if we extend the potential price influencing factors to host characteristics, same as host_since."
   ]
  },
  {
   "cell_type": "code",
   "execution_count": 22,
   "metadata": {},
   "outputs": [],
   "source": [
    "#replace NaN with 'unknown'\n",
    "\n",
    "df['host_location'] = df['host_location'].replace(np.nan,'unknown')"
   ]
  },
  {
   "cell_type": "code",
   "execution_count": 23,
   "metadata": {},
   "outputs": [
    {
     "data": {
      "text/plain": [
       "within an hour        83464\n",
       "within a few hours    28891\n",
       "within a day          23425\n",
       "a few days or more    15150\n",
       "Name: host_response_time, dtype: int64"
      ]
     },
     "execution_count": 23,
     "metadata": {},
     "output_type": "execute_result"
    }
   ],
   "source": [
    "#next we look at host_response_time, 128782 missing values\n",
    "\n",
    "df['host_response_time'].value_counts()"
   ]
  },
  {
   "cell_type": "markdown",
   "metadata": {},
   "source": [
    "This step is important because almost half of the records are missing values, more specifically 128782. \n",
    "\n",
    "We know from statistics summary that only 25% of host_response_rate is under 0.9, which gives me confidence in the decision. We will replace the NaN with the most frequent value 'within an hour'."
   ]
  },
  {
   "cell_type": "code",
   "execution_count": 24,
   "metadata": {},
   "outputs": [],
   "source": [
    "#replace NaN with 'within an hour'\n",
    "\n",
    "df['host_response_time'] = df['host_response_time'].replace(np.nan,'within an hour')"
   ]
  },
  {
   "cell_type": "code",
   "execution_count": 25,
   "metadata": {},
   "outputs": [
    {
     "data": {
      "text/plain": [
       "within an hour        212246\n",
       "within a few hours     28891\n",
       "within a day           23425\n",
       "a few days or more     15150\n",
       "Name: host_response_time, dtype: int64"
      ]
     },
     "execution_count": 25,
     "metadata": {},
     "output_type": "execute_result"
    }
   ],
   "source": [
    "#since we had 128782 missing values, now we should have 212246 rows for 'within an hour'\n",
    "\n",
    "df['host_response_time'].value_counts()"
   ]
  },
  {
   "cell_type": "code",
   "execution_count": 26,
   "metadata": {},
   "outputs": [
    {
     "data": {
      "text/plain": [
       "f    229294\n",
       "t     50253\n",
       "Name: host_is_superhost, dtype: int64"
      ]
     },
     "execution_count": 26,
     "metadata": {},
     "output_type": "execute_result"
    }
   ],
   "source": [
    "#next host_is_superhost, missing 165 values \n",
    "\n",
    "df['host_is_superhost'].value_counts()"
   ]
  },
  {
   "cell_type": "code",
   "execution_count": 27,
   "metadata": {},
   "outputs": [],
   "source": [
    "#we observe that a vast majority is not a superhost, therefore replacing NaN with the most frequent value \n",
    "\n",
    "df['host_is_superhost'] = df['host_is_superhost'].replace(np.nan,'f')"
   ]
  },
  {
   "cell_type": "code",
   "execution_count": 28,
   "metadata": {},
   "outputs": [
    {
     "data": {
      "text/plain": [
       "f    229459\n",
       "t     50253\n",
       "Name: host_is_superhost, dtype: int64"
      ]
     },
     "execution_count": 28,
     "metadata": {},
     "output_type": "execute_result"
    }
   ],
   "source": [
    "#after change, we should have 229459 'f' values \n",
    "\n",
    "df['host_is_superhost'].value_counts()"
   ]
  },
  {
   "cell_type": "code",
   "execution_count": 29,
   "metadata": {},
   "outputs": [
    {
     "data": {
      "text/plain": [
       "t    278631\n",
       "f       916\n",
       "Name: host_has_profile_pic, dtype: int64"
      ]
     },
     "execution_count": 29,
     "metadata": {},
     "output_type": "execute_result"
    }
   ],
   "source": [
    "#next host_has_profile_pic, 165 missing values\n",
    "\n",
    "df['host_has_profile_pic'].value_counts()"
   ]
  },
  {
   "cell_type": "code",
   "execution_count": 30,
   "metadata": {},
   "outputs": [],
   "source": [
    "#we'll replace NaN with the most frequent value 't'\n",
    "\n",
    "df['host_has_profile_pic'] = df['host_has_profile_pic'].replace(np.nan,'t')"
   ]
  },
  {
   "cell_type": "code",
   "execution_count": 31,
   "metadata": {},
   "outputs": [
    {
     "data": {
      "text/plain": [
       "t    278796\n",
       "f       916\n",
       "Name: host_has_profile_pic, dtype: int64"
      ]
     },
     "execution_count": 31,
     "metadata": {},
     "output_type": "execute_result"
    }
   ],
   "source": [
    "#we should have now a total of 278796 't' values\n",
    "\n",
    "df['host_has_profile_pic'].value_counts()"
   ]
  },
  {
   "cell_type": "code",
   "execution_count": 32,
   "metadata": {},
   "outputs": [
    {
     "data": {
      "text/plain": [
       "t    201191\n",
       "f     78356\n",
       "Name: host_identity_verified, dtype: int64"
      ]
     },
     "execution_count": 32,
     "metadata": {},
     "output_type": "execute_result"
    }
   ],
   "source": [
    "#next host_identity_verified, 165 missing values\n",
    "\n",
    "df['host_identity_verified'].value_counts()"
   ]
  },
  {
   "cell_type": "code",
   "execution_count": 33,
   "metadata": {},
   "outputs": [],
   "source": [
    "#we'll replace NaN with most frequent value 't'\n",
    "\n",
    "df['host_identity_verified'] = df['host_identity_verified'].replace(np.nan,'t')"
   ]
  },
  {
   "cell_type": "code",
   "execution_count": 34,
   "metadata": {},
   "outputs": [
    {
     "data": {
      "text/plain": [
       "t    201356\n",
       "f     78356\n",
       "Name: host_identity_verified, dtype: int64"
      ]
     },
     "execution_count": 34,
     "metadata": {},
     "output_type": "execute_result"
    }
   ],
   "source": [
    "#we should have now 201356 't' values\n",
    "\n",
    "\n",
    "df['host_identity_verified'].value_counts()"
   ]
  },
  {
   "cell_type": "code",
   "execution_count": 35,
   "metadata": {},
   "outputs": [
    {
     "data": {
      "text/plain": [
       "Manhattan        16553\n",
       "Brooklyn         14474\n",
       "Queens            4704\n",
       "Bronx              992\n",
       "Staten Island      289\n",
       "Name: district, dtype: int64"
      ]
     },
     "execution_count": 35,
     "metadata": {},
     "output_type": "execute_result"
    }
   ],
   "source": [
    "#last categorical column is district with 242700 missing values\n",
    "\n",
    "df['district'].value_counts()"
   ]
  },
  {
   "cell_type": "code",
   "execution_count": 36,
   "metadata": {},
   "outputs": [],
   "source": [
    "#we observe that the district is specified only for US based listings\n",
    "#we'll replace NaN with 'NA' for not applicable \n",
    "\n",
    "df['district'] = df['district'].replace(np.nan,'NA')"
   ]
  },
  {
   "cell_type": "code",
   "execution_count": 37,
   "metadata": {},
   "outputs": [
    {
     "data": {
      "text/plain": [
       "NA               242700\n",
       "Manhattan         16553\n",
       "Brooklyn          14474\n",
       "Queens             4704\n",
       "Bronx               992\n",
       "Staten Island       289\n",
       "Name: district, dtype: int64"
      ]
     },
     "execution_count": 37,
     "metadata": {},
     "output_type": "execute_result"
    }
   ],
   "source": [
    "#we should see now NA in value_counts() output \n",
    "\n",
    "df['district'].value_counts()"
   ]
  },
  {
   "cell_type": "markdown",
   "metadata": {},
   "source": [
    "We'll address now the **numerical values** missing."
   ]
  },
  {
   "cell_type": "code",
   "execution_count": 38,
   "metadata": {},
   "outputs": [
    {
     "data": {
      "text/plain": [
       "1.00    99334\n",
       "0.00    10640\n",
       "0.90     4982\n",
       "0.50     3639\n",
       "0.80     3085\n",
       "        ...  \n",
       "0.45        4\n",
       "0.15        3\n",
       "0.21        3\n",
       "0.24        1\n",
       "0.01        1\n",
       "Name: host_response_rate, Length: 91, dtype: int64"
      ]
     },
     "execution_count": 38,
     "metadata": {},
     "output_type": "execute_result"
    }
   ],
   "source": [
    "#first on the list is host_response_rate \n",
    "#we'll replace with the 128782 missing values with the mean value as this coloumn contains numerical values \n",
    "\n",
    "df['host_response_rate'].value_counts()"
   ]
  },
  {
   "cell_type": "code",
   "execution_count": 39,
   "metadata": {},
   "outputs": [
    {
     "name": "stdout",
     "output_type": "stream",
     "text": [
      "Mean value for host_response_rate is 0.87\n"
     ]
    }
   ],
   "source": [
    "#get mean value\n",
    "\n",
    "mean_hrr = df['host_response_rate'].mean()\n",
    "\n",
    "#format mean_hrr\n",
    "\n",
    "mean_hrr = float(\"{:.2f}\".format(mean_hrr))\n",
    "\n",
    "print(\"Mean value for host_response_rate is\", mean_hrr)"
   ]
  },
  {
   "cell_type": "code",
   "execution_count": 40,
   "metadata": {},
   "outputs": [],
   "source": [
    "#replace NaN with mean_hrr 0.87\n",
    "\n",
    "df['host_response_rate'] = df['host_response_rate'].replace(np.nan,mean_hrr)"
   ]
  },
  {
   "cell_type": "code",
   "execution_count": 41,
   "metadata": {},
   "outputs": [
    {
     "data": {
      "text/plain": [
       "0.87    129218\n",
       "1.00     99334\n",
       "0.00     10640\n",
       "0.90      4982\n",
       "0.50      3639\n",
       "         ...  \n",
       "0.45         4\n",
       "0.15         3\n",
       "0.21         3\n",
       "0.24         1\n",
       "0.01         1\n",
       "Name: host_response_rate, Length: 91, dtype: int64"
      ]
     },
     "execution_count": 41,
     "metadata": {},
     "output_type": "execute_result"
    }
   ],
   "source": [
    "#considering we had 128782 missing values, which we should see now with 0.87\n",
    "\n",
    "df['host_response_rate'].value_counts()"
   ]
  },
  {
   "cell_type": "code",
   "execution_count": 42,
   "metadata": {},
   "outputs": [
    {
     "data": {
      "text/plain": [
       "1.00    75555\n",
       "0.00    11431\n",
       "0.99     7227\n",
       "0.50     5445\n",
       "0.98     5085\n",
       "        ...  \n",
       "0.05       28\n",
       "0.01       25\n",
       "0.21       23\n",
       "0.02       14\n",
       "0.16        4\n",
       "Name: host_acceptance_rate, Length: 101, dtype: int64"
      ]
     },
     "execution_count": 42,
     "metadata": {},
     "output_type": "execute_result"
    }
   ],
   "source": [
    "#moving next to host_acceptance_rate, 113087 missing values\n",
    "\n",
    "df['host_acceptance_rate'].value_counts()"
   ]
  },
  {
   "cell_type": "code",
   "execution_count": 43,
   "metadata": {},
   "outputs": [
    {
     "name": "stdout",
     "output_type": "stream",
     "text": [
      "Mean value for host_acceptance_rate is 0.83\n"
     ]
    }
   ],
   "source": [
    "#we'll action it similiar as above by replacing NaN with mean value\n",
    "#get mean value first \n",
    "\n",
    "mean_har = df['host_acceptance_rate'].mean()\n",
    "\n",
    "#format mean_har\n",
    "\n",
    "mean_har = float(\"{:.2f}\".format(mean_har))\n",
    "\n",
    "print(\"Mean value for host_acceptance_rate is\", mean_har)"
   ]
  },
  {
   "cell_type": "code",
   "execution_count": 44,
   "metadata": {},
   "outputs": [],
   "source": [
    "#replace NaN with mean_har 0.83\n",
    "\n",
    "df['host_acceptance_rate'] = df['host_acceptance_rate'].replace(np.nan,mean_har)"
   ]
  },
  {
   "cell_type": "code",
   "execution_count": 45,
   "metadata": {},
   "outputs": [
    {
     "data": {
      "text/plain": [
       "0.83    115106\n",
       "1.00     75555\n",
       "0.00     11431\n",
       "0.99      7227\n",
       "0.50      5445\n",
       "         ...  \n",
       "0.05        28\n",
       "0.01        25\n",
       "0.21        23\n",
       "0.02        14\n",
       "0.16         4\n",
       "Name: host_acceptance_rate, Length: 101, dtype: int64"
      ]
     },
     "execution_count": 45,
     "metadata": {},
     "output_type": "execute_result"
    }
   ],
   "source": [
    "#check the transformation\n",
    "\n",
    "df['host_acceptance_rate'].value_counts()"
   ]
  },
  {
   "cell_type": "code",
   "execution_count": 46,
   "metadata": {},
   "outputs": [
    {
     "data": {
      "text/plain": [
       "1.0       117559\n",
       "2.0        35778\n",
       "0.0        33265\n",
       "3.0        17230\n",
       "4.0        11216\n",
       "           ...  \n",
       "172.0          1\n",
       "1360.0         1\n",
       "276.0          1\n",
       "852.0          1\n",
       "653.0          1\n",
       "Name: host_total_listings_count, Length: 206, dtype: int64"
      ]
     },
     "execution_count": 46,
     "metadata": {},
     "output_type": "execute_result"
    }
   ],
   "source": [
    "#next is host_total_listings_count with 165 missing values\n",
    "\n",
    "df['host_total_listings_count'].value_counts()"
   ]
  },
  {
   "cell_type": "code",
   "execution_count": 47,
   "metadata": {},
   "outputs": [
    {
     "data": {
      "text/plain": [
       "24.581612394337984"
      ]
     },
     "execution_count": 47,
     "metadata": {},
     "output_type": "execute_result"
    }
   ],
   "source": [
    "#check mean value \n",
    "df['host_total_listings_count'].mean()"
   ]
  },
  {
   "cell_type": "code",
   "execution_count": 48,
   "metadata": {},
   "outputs": [],
   "source": [
    "#we know from statistics summary that %50 of values represent 1 listing per host, making this a potentail good solution\n",
    "#mean value is not a good choice to pursue due to high value generated by potential outliers in dataset\n",
    "#we remember the max value is 7235 \n",
    "\n",
    "df['host_total_listings_count'] = df['host_total_listings_count'].replace(np.nan,1.0)"
   ]
  },
  {
   "cell_type": "code",
   "execution_count": 49,
   "metadata": {},
   "outputs": [
    {
     "data": {
      "text/plain": [
       "1.0       117724\n",
       "2.0        35778\n",
       "0.0        33265\n",
       "3.0        17230\n",
       "4.0        11216\n",
       "           ...  \n",
       "172.0          1\n",
       "1360.0         1\n",
       "276.0          1\n",
       "852.0          1\n",
       "653.0          1\n",
       "Name: host_total_listings_count, Length: 206, dtype: int64"
      ]
     },
     "execution_count": 49,
     "metadata": {},
     "output_type": "execute_result"
    }
   ],
   "source": [
    "#we should see now 117724 records for 1 listing\n",
    "\n",
    "df['host_total_listings_count'].value_counts()"
   ]
  },
  {
   "cell_type": "code",
   "execution_count": 50,
   "metadata": {},
   "outputs": [
    {
     "data": {
      "text/plain": [
       "1.0     170163\n",
       "2.0      51382\n",
       "3.0      18525\n",
       "4.0       6579\n",
       "5.0       2106\n",
       "6.0        701\n",
       "7.0        246\n",
       "10.0       150\n",
       "8.0        124\n",
       "9.0         79\n",
       "12.0        38\n",
       "11.0        32\n",
       "50.0        22\n",
       "20.0        22\n",
       "16.0        16\n",
       "14.0        15\n",
       "15.0        12\n",
       "40.0        10\n",
       "13.0         7\n",
       "22.0         5\n",
       "23.0         4\n",
       "24.0         4\n",
       "30.0         4\n",
       "18.0         4\n",
       "19.0         3\n",
       "33.0         3\n",
       "17.0         3\n",
       "38.0         2\n",
       "39.0         2\n",
       "46.0         2\n",
       "35.0         2\n",
       "31.0         2\n",
       "21.0         2\n",
       "41.0         1\n",
       "42.0         1\n",
       "26.0         1\n",
       "48.0         1\n",
       "34.0         1\n",
       "25.0         1\n",
       "Name: bedrooms, dtype: int64"
      ]
     },
     "execution_count": 50,
     "metadata": {},
     "output_type": "execute_result"
    }
   ],
   "source": [
    "#next is bedrooms with 29435 missing values\n",
    "\n",
    "df['bedrooms'].value_counts()"
   ]
  },
  {
   "cell_type": "code",
   "execution_count": 51,
   "metadata": {},
   "outputs": [
    {
     "name": "stdout",
     "output_type": "stream",
     "text": [
      "Mean value for bedrooms is 1.52\n"
     ]
    }
   ],
   "source": [
    "#get mean \n",
    "\n",
    "mean_b = df['bedrooms'].mean()\n",
    "\n",
    "#format mean_b\n",
    "\n",
    "mean_b = float(\"{:.2f}\".format(mean_b))\n",
    "\n",
    "print(\"Mean value for bedrooms is\", mean_b)"
   ]
  },
  {
   "cell_type": "code",
   "execution_count": 52,
   "metadata": {},
   "outputs": [],
   "source": [
    "#replace NaN with mean_b 1.52\n",
    "\n",
    "df['bedrooms'] = df['bedrooms'].replace(np.nan,mean_b)"
   ]
  },
  {
   "cell_type": "code",
   "execution_count": 53,
   "metadata": {},
   "outputs": [
    {
     "data": {
      "text/plain": [
       "1.00     170163\n",
       "2.00      51382\n",
       "1.52      29435\n",
       "3.00      18525\n",
       "4.00       6579\n",
       "5.00       2106\n",
       "6.00        701\n",
       "7.00        246\n",
       "10.00       150\n",
       "8.00        124\n",
       "9.00         79\n",
       "12.00        38\n",
       "11.00        32\n",
       "20.00        22\n",
       "50.00        22\n",
       "16.00        16\n",
       "14.00        15\n",
       "15.00        12\n",
       "40.00        10\n",
       "13.00         7\n",
       "22.00         5\n",
       "30.00         4\n",
       "24.00         4\n",
       "23.00         4\n",
       "18.00         4\n",
       "17.00         3\n",
       "19.00         3\n",
       "33.00         3\n",
       "21.00         2\n",
       "39.00         2\n",
       "38.00         2\n",
       "46.00         2\n",
       "31.00         2\n",
       "35.00         2\n",
       "34.00         1\n",
       "41.00         1\n",
       "48.00         1\n",
       "26.00         1\n",
       "42.00         1\n",
       "25.00         1\n",
       "Name: bedrooms, dtype: int64"
      ]
     },
     "execution_count": 53,
     "metadata": {},
     "output_type": "execute_result"
    }
   ],
   "source": [
    "#we should see now 29435 values for 1.52\n",
    "\n",
    "df['bedrooms'].value_counts()"
   ]
  },
  {
   "cell_type": "code",
   "execution_count": 54,
   "metadata": {},
   "outputs": [
    {
     "data": {
      "text/plain": [
       "100.0    57458\n",
       "98.0     13616\n",
       "97.0     12425\n",
       "96.0     12261\n",
       "93.0     10995\n",
       "         ...  \n",
       "36.0         1\n",
       "61.0         1\n",
       "31.0         1\n",
       "44.0         1\n",
       "49.0         1\n",
       "Name: review_scores_rating, Length: 63, dtype: int64"
      ]
     },
     "execution_count": 54,
     "metadata": {},
     "output_type": "execute_result"
    }
   ],
   "source": [
    "#next is review_scores_rating with 91405 missing values \n",
    "\n",
    "df['review_scores_rating'].value_counts()"
   ]
  },
  {
   "cell_type": "code",
   "execution_count": 55,
   "metadata": {},
   "outputs": [
    {
     "name": "stdout",
     "output_type": "stream",
     "text": [
      "Mean value for review_scores_rating is 93.41\n"
     ]
    }
   ],
   "source": [
    "#get mean\n",
    "\n",
    "mean_rsr = df['review_scores_rating'].mean()\n",
    "\n",
    "#format mean_rsr\n",
    "\n",
    "mean_rsr = float(\"{:.2f}\".format(mean_rsr))\n",
    "\n",
    "print(\"Mean value for review_scores_rating is\", mean_rsr)"
   ]
  },
  {
   "cell_type": "code",
   "execution_count": 56,
   "metadata": {},
   "outputs": [],
   "source": [
    "#replace NaN with mean_rsr 93.41\n",
    "\n",
    "df['review_scores_rating'] = df['review_scores_rating'].replace(np.nan,mean_rsr)"
   ]
  },
  {
   "cell_type": "code",
   "execution_count": 57,
   "metadata": {},
   "outputs": [
    {
     "data": {
      "text/plain": [
       "93.41     91405\n",
       "100.00    57458\n",
       "98.00     13616\n",
       "97.00     12425\n",
       "96.00     12261\n",
       "          ...  \n",
       "36.00         1\n",
       "31.00         1\n",
       "61.00         1\n",
       "44.00         1\n",
       "49.00         1\n",
       "Name: review_scores_rating, Length: 64, dtype: int64"
      ]
     },
     "execution_count": 57,
     "metadata": {},
     "output_type": "execute_result"
    }
   ],
   "source": [
    "#we should see now 91405 values for 93.41\n",
    "\n",
    "df['review_scores_rating'].value_counts()"
   ]
  },
  {
   "cell_type": "code",
   "execution_count": 58,
   "metadata": {},
   "outputs": [
    {
     "data": {
      "text/plain": [
       "10.0    136390\n",
       "9.0      37176\n",
       "8.0       8712\n",
       "6.0       1974\n",
       "7.0       1795\n",
       "2.0       1152\n",
       "4.0        527\n",
       "5.0        240\n",
       "3.0         33\n",
       "Name: review_scores_accuracy, dtype: int64"
      ]
     },
     "execution_count": 58,
     "metadata": {},
     "output_type": "execute_result"
    }
   ],
   "source": [
    "#next we look at review_scores_accuracy with 91713 missing values \n",
    "\n",
    "df['review_scores_accuracy'].value_counts()"
   ]
  },
  {
   "cell_type": "code",
   "execution_count": 59,
   "metadata": {},
   "outputs": [
    {
     "name": "stdout",
     "output_type": "stream",
     "text": [
      "Mean value for review_scores_accuracy is 9.57\n"
     ]
    }
   ],
   "source": [
    "#get mean \n",
    "\n",
    "mean_rsa = df['review_scores_accuracy'].mean()\n",
    "\n",
    "#format mean_rsa\n",
    "\n",
    "mean_rsa = float(\"{:.2f}\".format(mean_rsa))\n",
    "\n",
    "print(\"Mean value for review_scores_accuracy is\", mean_rsa)"
   ]
  },
  {
   "cell_type": "code",
   "execution_count": 60,
   "metadata": {},
   "outputs": [],
   "source": [
    "#replace NaN with mean_rsa 9.57\n",
    "\n",
    "df['review_scores_accuracy'] = df['review_scores_accuracy'].replace(np.nan,mean_rsa)"
   ]
  },
  {
   "cell_type": "code",
   "execution_count": 61,
   "metadata": {},
   "outputs": [
    {
     "data": {
      "text/plain": [
       "10.00    136390\n",
       "9.57      91713\n",
       "9.00      37176\n",
       "8.00       8712\n",
       "6.00       1974\n",
       "7.00       1795\n",
       "2.00       1152\n",
       "4.00        527\n",
       "5.00        240\n",
       "3.00         33\n",
       "Name: review_scores_accuracy, dtype: int64"
      ]
     },
     "execution_count": 61,
     "metadata": {},
     "output_type": "execute_result"
    }
   ],
   "source": [
    "#we should see now 91713 values of 9.57\n",
    "\n",
    "df['review_scores_accuracy'].value_counts()"
   ]
  },
  {
   "cell_type": "code",
   "execution_count": 62,
   "metadata": {},
   "outputs": [
    {
     "data": {
      "text/plain": [
       "10.0    109029\n",
       "9.0      52107\n",
       "8.0      17148\n",
       "7.0       3810\n",
       "6.0       3209\n",
       "2.0       1271\n",
       "4.0        853\n",
       "5.0        541\n",
       "3.0         79\n",
       "Name: review_scores_cleanliness, dtype: int64"
      ]
     },
     "execution_count": 62,
     "metadata": {},
     "output_type": "execute_result"
    }
   ],
   "source": [
    "#next is review_scores_cleanliness with 91655 missing values \n",
    "\n",
    "df['review_scores_cleanliness'].value_counts()"
   ]
  },
  {
   "cell_type": "code",
   "execution_count": 63,
   "metadata": {},
   "outputs": [
    {
     "name": "stdout",
     "output_type": "stream",
     "text": [
      "Mean value for review_scores_cleanliness is 9.31\n"
     ]
    }
   ],
   "source": [
    "#get mean \n",
    "\n",
    "mean_rscl = df['review_scores_cleanliness'].mean()\n",
    "\n",
    "#format mean_rscl\n",
    "\n",
    "mean_rscl = float(\"{:.2f}\".format(mean_rscl))\n",
    "\n",
    "print(\"Mean value for review_scores_cleanliness is\", mean_rscl)"
   ]
  },
  {
   "cell_type": "code",
   "execution_count": 64,
   "metadata": {},
   "outputs": [],
   "source": [
    "#replace NaN with mean_rscl 9.31\n",
    "\n",
    "df['review_scores_cleanliness'] = df['review_scores_cleanliness'].replace(np.nan,mean_rscl)"
   ]
  },
  {
   "cell_type": "code",
   "execution_count": 65,
   "metadata": {},
   "outputs": [
    {
     "data": {
      "text/plain": [
       "10.00    109029\n",
       "9.31      91665\n",
       "9.00      52107\n",
       "8.00      17148\n",
       "7.00       3810\n",
       "6.00       3209\n",
       "2.00       1271\n",
       "4.00        853\n",
       "5.00        541\n",
       "3.00         79\n",
       "Name: review_scores_cleanliness, dtype: int64"
      ]
     },
     "execution_count": 65,
     "metadata": {},
     "output_type": "execute_result"
    }
   ],
   "source": [
    "#we should see now 91655 value of 9.31\n",
    "\n",
    "df['review_scores_cleanliness'].value_counts()"
   ]
  },
  {
   "cell_type": "code",
   "execution_count": 66,
   "metadata": {},
   "outputs": [
    {
     "data": {
      "text/plain": [
       "10.0    152997\n",
       "9.0      25292\n",
       "8.0       5685\n",
       "6.0       1381\n",
       "7.0       1135\n",
       "2.0        963\n",
       "4.0        327\n",
       "5.0        145\n",
       "3.0         16\n",
       "Name: review_scores_checkin, dtype: int64"
      ]
     },
     "execution_count": 66,
     "metadata": {},
     "output_type": "execute_result"
    }
   ],
   "source": [
    "#next is review_scores_checkin with 91771 values \n",
    "\n",
    "df['review_scores_checkin'].value_counts()"
   ]
  },
  {
   "cell_type": "code",
   "execution_count": 67,
   "metadata": {},
   "outputs": [
    {
     "name": "stdout",
     "output_type": "stream",
     "text": [
      "Mean value for review_scores_checkin is 9.7\n"
     ]
    }
   ],
   "source": [
    "#get mean \n",
    "\n",
    "mean_rsch = df['review_scores_checkin'].mean()\n",
    "\n",
    "#format mean_rsch\n",
    "\n",
    "mean_rsch = float(\"{:.2f}\".format(mean_rsch))\n",
    "\n",
    "print(\"Mean value for review_scores_checkin is\", mean_rsch)"
   ]
  },
  {
   "cell_type": "code",
   "execution_count": 68,
   "metadata": {},
   "outputs": [],
   "source": [
    "#replace NaN with mean_rsch 9.7\n",
    "\n",
    "df['review_scores_checkin'] = df['review_scores_checkin'].replace(np.nan,mean_rsch)"
   ]
  },
  {
   "cell_type": "code",
   "execution_count": 69,
   "metadata": {},
   "outputs": [
    {
     "data": {
      "text/plain": [
       "10.0    152997\n",
       "9.7      91771\n",
       "9.0      25292\n",
       "8.0       5685\n",
       "6.0       1381\n",
       "7.0       1135\n",
       "2.0        963\n",
       "4.0        327\n",
       "5.0        145\n",
       "3.0         16\n",
       "Name: review_scores_checkin, dtype: int64"
      ]
     },
     "execution_count": 69,
     "metadata": {},
     "output_type": "execute_result"
    }
   ],
   "source": [
    "#we should see now 91771 values for 9.7\n",
    "\n",
    "df['review_scores_checkin'].value_counts()"
   ]
  },
  {
   "cell_type": "code",
   "execution_count": 70,
   "metadata": {},
   "outputs": [
    {
     "data": {
      "text/plain": [
       "10.0    153549\n",
       "9.0      24572\n",
       "8.0       5668\n",
       "6.0       1434\n",
       "7.0       1229\n",
       "2.0       1020\n",
       "4.0        372\n",
       "5.0        159\n",
       "3.0         22\n",
       "Name: review_scores_communication, dtype: int64"
      ]
     },
     "execution_count": 70,
     "metadata": {},
     "output_type": "execute_result"
    }
   ],
   "source": [
    "#next is review_scores_communication with 91687 missing values\n",
    "\n",
    "df['review_scores_communication'].value_counts()"
   ]
  },
  {
   "cell_type": "code",
   "execution_count": 71,
   "metadata": {},
   "outputs": [
    {
     "name": "stdout",
     "output_type": "stream",
     "text": [
      "Mean value for review_scores_communication is 9.7\n"
     ]
    }
   ],
   "source": [
    "#get mean \n",
    "\n",
    "mean_rsco = df['review_scores_communication'].mean()\n",
    "\n",
    "#format mean_rsco\n",
    "\n",
    "mean_rsco = float(\"{:.2f}\".format(mean_rsco))\n",
    "\n",
    "print(\"Mean value for review_scores_communication is\", mean_rsco)"
   ]
  },
  {
   "cell_type": "code",
   "execution_count": 72,
   "metadata": {},
   "outputs": [],
   "source": [
    "#replace NaN with 9.70\n",
    "\n",
    "df['review_scores_communication'] = df['review_scores_communication'].replace(np.nan,9.70)"
   ]
  },
  {
   "cell_type": "code",
   "execution_count": 73,
   "metadata": {},
   "outputs": [
    {
     "data": {
      "text/plain": [
       "10.0    153549\n",
       "9.7      91687\n",
       "9.0      24572\n",
       "8.0       5668\n",
       "6.0       1434\n",
       "7.0       1229\n",
       "2.0       1020\n",
       "4.0        372\n",
       "5.0        159\n",
       "3.0         22\n",
       "Name: review_scores_communication, dtype: int64"
      ]
     },
     "execution_count": 73,
     "metadata": {},
     "output_type": "execute_result"
    }
   ],
   "source": [
    "#we should see now 91687 values for 9.70\n",
    "\n",
    "df['review_scores_communication'].value_counts()"
   ]
  },
  {
   "cell_type": "code",
   "execution_count": 74,
   "metadata": {},
   "outputs": [
    {
     "data": {
      "text/plain": [
       "10.0    140495\n",
       "9.0      35350\n",
       "8.0       8465\n",
       "6.0       1480\n",
       "7.0       1151\n",
       "2.0        635\n",
       "4.0        234\n",
       "5.0        120\n",
       "3.0          7\n",
       "Name: review_scores_location, dtype: int64"
      ]
     },
     "execution_count": 74,
     "metadata": {},
     "output_type": "execute_result"
    }
   ],
   "source": [
    "#next is review_scores_location with 91775 missing values\n",
    "\n",
    "df['review_scores_location'].value_counts()"
   ]
  },
  {
   "cell_type": "code",
   "execution_count": 75,
   "metadata": {},
   "outputs": [
    {
     "name": "stdout",
     "output_type": "stream",
     "text": [
      "Mean value for review_scores_location is 9.63\n"
     ]
    }
   ],
   "source": [
    "#get mean \n",
    "\n",
    "mean_rsl = df['review_scores_location'].mean()\n",
    "\n",
    "#format mean_rsl\n",
    "\n",
    "mean_rsl = float(\"{:.2f}\".format(mean_rsl)) \n",
    "\n",
    "print(\"Mean value for review_scores_location is\", mean_rsl)"
   ]
  },
  {
   "cell_type": "code",
   "execution_count": 76,
   "metadata": {},
   "outputs": [],
   "source": [
    "#replace NaN with mean_rsl 9.63\n",
    "\n",
    "df['review_scores_location'] = df['review_scores_location'].replace(np.nan,mean_rsl)"
   ]
  },
  {
   "cell_type": "code",
   "execution_count": 77,
   "metadata": {},
   "outputs": [
    {
     "data": {
      "text/plain": [
       "10.00    140495\n",
       "9.63      91775\n",
       "9.00      35350\n",
       "8.00       8465\n",
       "6.00       1480\n",
       "7.00       1151\n",
       "2.00        635\n",
       "4.00        234\n",
       "5.00        120\n",
       "3.00          7\n",
       "Name: review_scores_location, dtype: int64"
      ]
     },
     "execution_count": 77,
     "metadata": {},
     "output_type": "execute_result"
    }
   ],
   "source": [
    "#we should see now 91775 values for 9.63\n",
    "\n",
    "df['review_scores_location'].value_counts()"
   ]
  },
  {
   "cell_type": "code",
   "execution_count": 78,
   "metadata": {},
   "outputs": [
    {
     "data": {
      "text/plain": [
       "10.0    102530\n",
       "9.0      63670\n",
       "8.0      14588\n",
       "6.0       2602\n",
       "7.0       2497\n",
       "2.0       1095\n",
       "4.0        605\n",
       "5.0        306\n",
       "3.0         34\n",
       "Name: review_scores_value, dtype: int64"
      ]
     },
     "execution_count": 78,
     "metadata": {},
     "output_type": "execute_result"
    }
   ],
   "source": [
    "#last column on the list is review_scores_value with 91785 missing values \n",
    "\n",
    "df['review_scores_value'].value_counts()"
   ]
  },
  {
   "cell_type": "code",
   "execution_count": 79,
   "metadata": {},
   "outputs": [
    {
     "name": "stdout",
     "output_type": "stream",
     "text": [
      "Mean value for review_scores_value is 9.34\n"
     ]
    }
   ],
   "source": [
    "#get mean \n",
    "\n",
    "mean_rsv = df['review_scores_value'].mean()\n",
    "\n",
    "mean_rsv = float(\"{:.2f}\".format(mean_rsv))\n",
    "\n",
    "print(\"Mean value for review_scores_value is\", mean_rsv)"
   ]
  },
  {
   "cell_type": "code",
   "execution_count": 80,
   "metadata": {},
   "outputs": [],
   "source": [
    "#replace NaN with mean_rsv 9.34\n",
    "\n",
    "df['review_scores_value'] = df['review_scores_value'].replace(np.nan,mean_rsv)"
   ]
  },
  {
   "cell_type": "code",
   "execution_count": 81,
   "metadata": {},
   "outputs": [
    {
     "data": {
      "text/plain": [
       "10.00    102530\n",
       "9.34      91785\n",
       "9.00      63670\n",
       "8.00      14588\n",
       "6.00       2602\n",
       "7.00       2497\n",
       "2.00       1095\n",
       "4.00        605\n",
       "5.00        306\n",
       "3.00         34\n",
       "Name: review_scores_value, dtype: int64"
      ]
     },
     "execution_count": 81,
     "metadata": {},
     "output_type": "execute_result"
    }
   ],
   "source": [
    "#we should see now 91785 values for 9.34\n",
    "\n",
    "df['review_scores_value'].value_counts()"
   ]
  },
  {
   "cell_type": "markdown",
   "metadata": {},
   "source": [
    "All missing values have been replaced accordingly. Let's run the loop again for a final check. "
   ]
  },
  {
   "cell_type": "code",
   "execution_count": 82,
   "metadata": {},
   "outputs": [
    {
     "data": {
      "text/html": [
       "<div>\n",
       "<style scoped>\n",
       "    .dataframe tbody tr th:only-of-type {\n",
       "        vertical-align: middle;\n",
       "    }\n",
       "\n",
       "    .dataframe tbody tr th {\n",
       "        vertical-align: top;\n",
       "    }\n",
       "\n",
       "    .dataframe thead th {\n",
       "        text-align: right;\n",
       "    }\n",
       "</style>\n",
       "<table border=\"1\" class=\"dataframe\">\n",
       "  <thead>\n",
       "    <tr style=\"text-align: right;\">\n",
       "      <th></th>\n",
       "      <th>listing_id</th>\n",
       "      <th>name</th>\n",
       "      <th>host_id</th>\n",
       "      <th>host_since</th>\n",
       "      <th>host_location</th>\n",
       "      <th>host_response_time</th>\n",
       "      <th>host_response_rate</th>\n",
       "      <th>host_acceptance_rate</th>\n",
       "      <th>host_is_superhost</th>\n",
       "      <th>host_total_listings_count</th>\n",
       "      <th>...</th>\n",
       "      <th>minimum_nights</th>\n",
       "      <th>maximum_nights</th>\n",
       "      <th>review_scores_rating</th>\n",
       "      <th>review_scores_accuracy</th>\n",
       "      <th>review_scores_cleanliness</th>\n",
       "      <th>review_scores_checkin</th>\n",
       "      <th>review_scores_communication</th>\n",
       "      <th>review_scores_location</th>\n",
       "      <th>review_scores_value</th>\n",
       "      <th>instant_bookable</th>\n",
       "    </tr>\n",
       "  </thead>\n",
       "  <tbody>\n",
       "    <tr>\n",
       "      <th>0</th>\n",
       "      <td>False</td>\n",
       "      <td>False</td>\n",
       "      <td>False</td>\n",
       "      <td>False</td>\n",
       "      <td>False</td>\n",
       "      <td>False</td>\n",
       "      <td>False</td>\n",
       "      <td>False</td>\n",
       "      <td>False</td>\n",
       "      <td>False</td>\n",
       "      <td>...</td>\n",
       "      <td>False</td>\n",
       "      <td>False</td>\n",
       "      <td>False</td>\n",
       "      <td>False</td>\n",
       "      <td>False</td>\n",
       "      <td>False</td>\n",
       "      <td>False</td>\n",
       "      <td>False</td>\n",
       "      <td>False</td>\n",
       "      <td>False</td>\n",
       "    </tr>\n",
       "    <tr>\n",
       "      <th>1</th>\n",
       "      <td>False</td>\n",
       "      <td>False</td>\n",
       "      <td>False</td>\n",
       "      <td>False</td>\n",
       "      <td>False</td>\n",
       "      <td>False</td>\n",
       "      <td>False</td>\n",
       "      <td>False</td>\n",
       "      <td>False</td>\n",
       "      <td>False</td>\n",
       "      <td>...</td>\n",
       "      <td>False</td>\n",
       "      <td>False</td>\n",
       "      <td>False</td>\n",
       "      <td>False</td>\n",
       "      <td>False</td>\n",
       "      <td>False</td>\n",
       "      <td>False</td>\n",
       "      <td>False</td>\n",
       "      <td>False</td>\n",
       "      <td>False</td>\n",
       "    </tr>\n",
       "    <tr>\n",
       "      <th>2</th>\n",
       "      <td>False</td>\n",
       "      <td>False</td>\n",
       "      <td>False</td>\n",
       "      <td>False</td>\n",
       "      <td>False</td>\n",
       "      <td>False</td>\n",
       "      <td>False</td>\n",
       "      <td>False</td>\n",
       "      <td>False</td>\n",
       "      <td>False</td>\n",
       "      <td>...</td>\n",
       "      <td>False</td>\n",
       "      <td>False</td>\n",
       "      <td>False</td>\n",
       "      <td>False</td>\n",
       "      <td>False</td>\n",
       "      <td>False</td>\n",
       "      <td>False</td>\n",
       "      <td>False</td>\n",
       "      <td>False</td>\n",
       "      <td>False</td>\n",
       "    </tr>\n",
       "    <tr>\n",
       "      <th>3</th>\n",
       "      <td>False</td>\n",
       "      <td>False</td>\n",
       "      <td>False</td>\n",
       "      <td>False</td>\n",
       "      <td>False</td>\n",
       "      <td>False</td>\n",
       "      <td>False</td>\n",
       "      <td>False</td>\n",
       "      <td>False</td>\n",
       "      <td>False</td>\n",
       "      <td>...</td>\n",
       "      <td>False</td>\n",
       "      <td>False</td>\n",
       "      <td>False</td>\n",
       "      <td>False</td>\n",
       "      <td>False</td>\n",
       "      <td>False</td>\n",
       "      <td>False</td>\n",
       "      <td>False</td>\n",
       "      <td>False</td>\n",
       "      <td>False</td>\n",
       "    </tr>\n",
       "    <tr>\n",
       "      <th>4</th>\n",
       "      <td>False</td>\n",
       "      <td>False</td>\n",
       "      <td>False</td>\n",
       "      <td>False</td>\n",
       "      <td>False</td>\n",
       "      <td>False</td>\n",
       "      <td>False</td>\n",
       "      <td>False</td>\n",
       "      <td>False</td>\n",
       "      <td>False</td>\n",
       "      <td>...</td>\n",
       "      <td>False</td>\n",
       "      <td>False</td>\n",
       "      <td>False</td>\n",
       "      <td>False</td>\n",
       "      <td>False</td>\n",
       "      <td>False</td>\n",
       "      <td>False</td>\n",
       "      <td>False</td>\n",
       "      <td>False</td>\n",
       "      <td>False</td>\n",
       "    </tr>\n",
       "    <tr>\n",
       "      <th>...</th>\n",
       "      <td>...</td>\n",
       "      <td>...</td>\n",
       "      <td>...</td>\n",
       "      <td>...</td>\n",
       "      <td>...</td>\n",
       "      <td>...</td>\n",
       "      <td>...</td>\n",
       "      <td>...</td>\n",
       "      <td>...</td>\n",
       "      <td>...</td>\n",
       "      <td>...</td>\n",
       "      <td>...</td>\n",
       "      <td>...</td>\n",
       "      <td>...</td>\n",
       "      <td>...</td>\n",
       "      <td>...</td>\n",
       "      <td>...</td>\n",
       "      <td>...</td>\n",
       "      <td>...</td>\n",
       "      <td>...</td>\n",
       "      <td>...</td>\n",
       "    </tr>\n",
       "    <tr>\n",
       "      <th>279707</th>\n",
       "      <td>False</td>\n",
       "      <td>False</td>\n",
       "      <td>False</td>\n",
       "      <td>False</td>\n",
       "      <td>False</td>\n",
       "      <td>False</td>\n",
       "      <td>False</td>\n",
       "      <td>False</td>\n",
       "      <td>False</td>\n",
       "      <td>False</td>\n",
       "      <td>...</td>\n",
       "      <td>False</td>\n",
       "      <td>False</td>\n",
       "      <td>False</td>\n",
       "      <td>False</td>\n",
       "      <td>False</td>\n",
       "      <td>False</td>\n",
       "      <td>False</td>\n",
       "      <td>False</td>\n",
       "      <td>False</td>\n",
       "      <td>False</td>\n",
       "    </tr>\n",
       "    <tr>\n",
       "      <th>279708</th>\n",
       "      <td>False</td>\n",
       "      <td>False</td>\n",
       "      <td>False</td>\n",
       "      <td>False</td>\n",
       "      <td>False</td>\n",
       "      <td>False</td>\n",
       "      <td>False</td>\n",
       "      <td>False</td>\n",
       "      <td>False</td>\n",
       "      <td>False</td>\n",
       "      <td>...</td>\n",
       "      <td>False</td>\n",
       "      <td>False</td>\n",
       "      <td>False</td>\n",
       "      <td>False</td>\n",
       "      <td>False</td>\n",
       "      <td>False</td>\n",
       "      <td>False</td>\n",
       "      <td>False</td>\n",
       "      <td>False</td>\n",
       "      <td>False</td>\n",
       "    </tr>\n",
       "    <tr>\n",
       "      <th>279709</th>\n",
       "      <td>False</td>\n",
       "      <td>False</td>\n",
       "      <td>False</td>\n",
       "      <td>False</td>\n",
       "      <td>False</td>\n",
       "      <td>False</td>\n",
       "      <td>False</td>\n",
       "      <td>False</td>\n",
       "      <td>False</td>\n",
       "      <td>False</td>\n",
       "      <td>...</td>\n",
       "      <td>False</td>\n",
       "      <td>False</td>\n",
       "      <td>False</td>\n",
       "      <td>False</td>\n",
       "      <td>False</td>\n",
       "      <td>False</td>\n",
       "      <td>False</td>\n",
       "      <td>False</td>\n",
       "      <td>False</td>\n",
       "      <td>False</td>\n",
       "    </tr>\n",
       "    <tr>\n",
       "      <th>279710</th>\n",
       "      <td>False</td>\n",
       "      <td>False</td>\n",
       "      <td>False</td>\n",
       "      <td>False</td>\n",
       "      <td>False</td>\n",
       "      <td>False</td>\n",
       "      <td>False</td>\n",
       "      <td>False</td>\n",
       "      <td>False</td>\n",
       "      <td>False</td>\n",
       "      <td>...</td>\n",
       "      <td>False</td>\n",
       "      <td>False</td>\n",
       "      <td>False</td>\n",
       "      <td>False</td>\n",
       "      <td>False</td>\n",
       "      <td>False</td>\n",
       "      <td>False</td>\n",
       "      <td>False</td>\n",
       "      <td>False</td>\n",
       "      <td>False</td>\n",
       "    </tr>\n",
       "    <tr>\n",
       "      <th>279711</th>\n",
       "      <td>False</td>\n",
       "      <td>False</td>\n",
       "      <td>False</td>\n",
       "      <td>False</td>\n",
       "      <td>False</td>\n",
       "      <td>False</td>\n",
       "      <td>False</td>\n",
       "      <td>False</td>\n",
       "      <td>False</td>\n",
       "      <td>False</td>\n",
       "      <td>...</td>\n",
       "      <td>False</td>\n",
       "      <td>False</td>\n",
       "      <td>False</td>\n",
       "      <td>False</td>\n",
       "      <td>False</td>\n",
       "      <td>False</td>\n",
       "      <td>False</td>\n",
       "      <td>False</td>\n",
       "      <td>False</td>\n",
       "      <td>False</td>\n",
       "    </tr>\n",
       "  </tbody>\n",
       "</table>\n",
       "<p>279712 rows × 33 columns</p>\n",
       "</div>"
      ],
      "text/plain": [
       "        listing_id   name  host_id  host_since  host_location  \\\n",
       "0            False  False    False       False          False   \n",
       "1            False  False    False       False          False   \n",
       "2            False  False    False       False          False   \n",
       "3            False  False    False       False          False   \n",
       "4            False  False    False       False          False   \n",
       "...            ...    ...      ...         ...            ...   \n",
       "279707       False  False    False       False          False   \n",
       "279708       False  False    False       False          False   \n",
       "279709       False  False    False       False          False   \n",
       "279710       False  False    False       False          False   \n",
       "279711       False  False    False       False          False   \n",
       "\n",
       "        host_response_time  host_response_rate  host_acceptance_rate  \\\n",
       "0                    False               False                 False   \n",
       "1                    False               False                 False   \n",
       "2                    False               False                 False   \n",
       "3                    False               False                 False   \n",
       "4                    False               False                 False   \n",
       "...                    ...                 ...                   ...   \n",
       "279707               False               False                 False   \n",
       "279708               False               False                 False   \n",
       "279709               False               False                 False   \n",
       "279710               False               False                 False   \n",
       "279711               False               False                 False   \n",
       "\n",
       "        host_is_superhost  host_total_listings_count  ...  minimum_nights  \\\n",
       "0                   False                      False  ...           False   \n",
       "1                   False                      False  ...           False   \n",
       "2                   False                      False  ...           False   \n",
       "3                   False                      False  ...           False   \n",
       "4                   False                      False  ...           False   \n",
       "...                   ...                        ...  ...             ...   \n",
       "279707              False                      False  ...           False   \n",
       "279708              False                      False  ...           False   \n",
       "279709              False                      False  ...           False   \n",
       "279710              False                      False  ...           False   \n",
       "279711              False                      False  ...           False   \n",
       "\n",
       "        maximum_nights  review_scores_rating  review_scores_accuracy  \\\n",
       "0                False                 False                   False   \n",
       "1                False                 False                   False   \n",
       "2                False                 False                   False   \n",
       "3                False                 False                   False   \n",
       "4                False                 False                   False   \n",
       "...                ...                   ...                     ...   \n",
       "279707           False                 False                   False   \n",
       "279708           False                 False                   False   \n",
       "279709           False                 False                   False   \n",
       "279710           False                 False                   False   \n",
       "279711           False                 False                   False   \n",
       "\n",
       "        review_scores_cleanliness  review_scores_checkin  \\\n",
       "0                           False                  False   \n",
       "1                           False                  False   \n",
       "2                           False                  False   \n",
       "3                           False                  False   \n",
       "4                           False                  False   \n",
       "...                           ...                    ...   \n",
       "279707                      False                  False   \n",
       "279708                      False                  False   \n",
       "279709                      False                  False   \n",
       "279710                      False                  False   \n",
       "279711                      False                  False   \n",
       "\n",
       "        review_scores_communication  review_scores_location  \\\n",
       "0                             False                   False   \n",
       "1                             False                   False   \n",
       "2                             False                   False   \n",
       "3                             False                   False   \n",
       "4                             False                   False   \n",
       "...                             ...                     ...   \n",
       "279707                        False                   False   \n",
       "279708                        False                   False   \n",
       "279709                        False                   False   \n",
       "279710                        False                   False   \n",
       "279711                        False                   False   \n",
       "\n",
       "        review_scores_value  instant_bookable  \n",
       "0                     False             False  \n",
       "1                     False             False  \n",
       "2                     False             False  \n",
       "3                     False             False  \n",
       "4                     False             False  \n",
       "...                     ...               ...  \n",
       "279707                False             False  \n",
       "279708                False             False  \n",
       "279709                False             False  \n",
       "279710                False             False  \n",
       "279711                False             False  \n",
       "\n",
       "[279712 rows x 33 columns]"
      ]
     },
     "execution_count": 82,
     "metadata": {},
     "output_type": "execute_result"
    }
   ],
   "source": [
    "missing_data = df.isnull()\n",
    "missing_data"
   ]
  },
  {
   "cell_type": "code",
   "execution_count": 83,
   "metadata": {},
   "outputs": [
    {
     "name": "stdout",
     "output_type": "stream",
     "text": [
      "listing_id\n",
      "False    279712\n",
      "Name: listing_id, dtype: int64\n",
      "\n",
      "name\n",
      "False    279712\n",
      "Name: name, dtype: int64\n",
      "\n",
      "host_id\n",
      "False    279712\n",
      "Name: host_id, dtype: int64\n",
      "\n",
      "host_since\n",
      "False    279712\n",
      "Name: host_since, dtype: int64\n",
      "\n",
      "host_location\n",
      "False    279712\n",
      "Name: host_location, dtype: int64\n",
      "\n",
      "host_response_time\n",
      "False    279712\n",
      "Name: host_response_time, dtype: int64\n",
      "\n",
      "host_response_rate\n",
      "False    279712\n",
      "Name: host_response_rate, dtype: int64\n",
      "\n",
      "host_acceptance_rate\n",
      "False    279712\n",
      "Name: host_acceptance_rate, dtype: int64\n",
      "\n",
      "host_is_superhost\n",
      "False    279712\n",
      "Name: host_is_superhost, dtype: int64\n",
      "\n",
      "host_total_listings_count\n",
      "False    279712\n",
      "Name: host_total_listings_count, dtype: int64\n",
      "\n",
      "host_has_profile_pic\n",
      "False    279712\n",
      "Name: host_has_profile_pic, dtype: int64\n",
      "\n",
      "host_identity_verified\n",
      "False    279712\n",
      "Name: host_identity_verified, dtype: int64\n",
      "\n",
      "neighbourhood\n",
      "False    279712\n",
      "Name: neighbourhood, dtype: int64\n",
      "\n",
      "district\n",
      "False    279712\n",
      "Name: district, dtype: int64\n",
      "\n",
      "city\n",
      "False    279712\n",
      "Name: city, dtype: int64\n",
      "\n",
      "latitude\n",
      "False    279712\n",
      "Name: latitude, dtype: int64\n",
      "\n",
      "longitude\n",
      "False    279712\n",
      "Name: longitude, dtype: int64\n",
      "\n",
      "property_type\n",
      "False    279712\n",
      "Name: property_type, dtype: int64\n",
      "\n",
      "room_type\n",
      "False    279712\n",
      "Name: room_type, dtype: int64\n",
      "\n",
      "accommodates\n",
      "False    279712\n",
      "Name: accommodates, dtype: int64\n",
      "\n",
      "bedrooms\n",
      "False    279712\n",
      "Name: bedrooms, dtype: int64\n",
      "\n",
      "amenities\n",
      "False    279712\n",
      "Name: amenities, dtype: int64\n",
      "\n",
      "price\n",
      "False    279712\n",
      "Name: price, dtype: int64\n",
      "\n",
      "minimum_nights\n",
      "False    279712\n",
      "Name: minimum_nights, dtype: int64\n",
      "\n",
      "maximum_nights\n",
      "False    279712\n",
      "Name: maximum_nights, dtype: int64\n",
      "\n",
      "review_scores_rating\n",
      "False    279712\n",
      "Name: review_scores_rating, dtype: int64\n",
      "\n",
      "review_scores_accuracy\n",
      "False    279712\n",
      "Name: review_scores_accuracy, dtype: int64\n",
      "\n",
      "review_scores_cleanliness\n",
      "False    279712\n",
      "Name: review_scores_cleanliness, dtype: int64\n",
      "\n",
      "review_scores_checkin\n",
      "False    279712\n",
      "Name: review_scores_checkin, dtype: int64\n",
      "\n",
      "review_scores_communication\n",
      "False    279712\n",
      "Name: review_scores_communication, dtype: int64\n",
      "\n",
      "review_scores_location\n",
      "False    279712\n",
      "Name: review_scores_location, dtype: int64\n",
      "\n",
      "review_scores_value\n",
      "False    279712\n",
      "Name: review_scores_value, dtype: int64\n",
      "\n",
      "instant_bookable\n",
      "False    279712\n",
      "Name: instant_bookable, dtype: int64\n",
      "\n"
     ]
    }
   ],
   "source": [
    "for column in missing_data.columns.values.tolist():\n",
    "    print(column)\n",
    "    print (missing_data[column].value_counts())\n",
    "    print(\"\")"
   ]
  },
  {
   "cell_type": "markdown",
   "metadata": {},
   "source": [
    "Great! Exactly what I was expecting to see, no more missing values found. "
   ]
  },
  {
   "cell_type": "markdown",
   "metadata": {},
   "source": [
    "There's one more step to do in this phase and that is dropping the rows with price 0, because this is our target variable and it can't be 0 for analysis. "
   ]
  },
  {
   "cell_type": "code",
   "execution_count": 84,
   "metadata": {},
   "outputs": [
    {
     "data": {
      "text/plain": [
       "False    279599\n",
       "True        113\n",
       "Name: price, dtype: int64"
      ]
     },
     "execution_count": 84,
     "metadata": {},
     "output_type": "execute_result"
    }
   ],
   "source": [
    "#let's view first how many records we'll be losing during this step\n",
    "#create a df to view the boolean values of the next statement \n",
    "\n",
    "df_price_zero = df['price'] == 0\n",
    "\n",
    "#check how many rows have value 0 for price \n",
    "\n",
    "df_price_zero.value_counts()"
   ]
  },
  {
   "cell_type": "code",
   "execution_count": 85,
   "metadata": {},
   "outputs": [],
   "source": [
    "#drop rows with value 0 for price\n",
    "\n",
    "df.drop(df.index[df['price'] == 0], inplace = True)"
   ]
  },
  {
   "cell_type": "code",
   "execution_count": 86,
   "metadata": {},
   "outputs": [
    {
     "data": {
      "text/plain": [
       "False    279599\n",
       "Name: price, dtype: int64"
      ]
     },
     "execution_count": 86,
     "metadata": {},
     "output_type": "execute_result"
    }
   ],
   "source": [
    "#check if any rows left with 0 by executing the above statement again \n",
    "\n",
    "df_price_zero = df['price'] == 0 \n",
    "\n",
    "df_price_zero.value_counts()"
   ]
  },
  {
   "cell_type": "markdown",
   "metadata": {},
   "source": [
    "No more rows with price 0. Let's reset the df index and see how many rows we have now in total left."
   ]
  },
  {
   "cell_type": "code",
   "execution_count": 87,
   "metadata": {},
   "outputs": [],
   "source": [
    "#reset df index\n",
    "\n",
    "df = df.reset_index(drop=True)"
   ]
  },
  {
   "cell_type": "code",
   "execution_count": 88,
   "metadata": {},
   "outputs": [
    {
     "name": "stdout",
     "output_type": "stream",
     "text": [
      "<class 'pandas.core.frame.DataFrame'>\n",
      "RangeIndex: 279599 entries, 0 to 279598\n",
      "Data columns (total 33 columns):\n",
      " #   Column                       Non-Null Count   Dtype  \n",
      "---  ------                       --------------   -----  \n",
      " 0   listing_id                   279599 non-null  int64  \n",
      " 1   name                         279599 non-null  object \n",
      " 2   host_id                      279599 non-null  int64  \n",
      " 3   host_since                   279599 non-null  object \n",
      " 4   host_location                279599 non-null  object \n",
      " 5   host_response_time           279599 non-null  object \n",
      " 6   host_response_rate           279599 non-null  float64\n",
      " 7   host_acceptance_rate         279599 non-null  float64\n",
      " 8   host_is_superhost            279599 non-null  object \n",
      " 9   host_total_listings_count    279599 non-null  float64\n",
      " 10  host_has_profile_pic         279599 non-null  object \n",
      " 11  host_identity_verified       279599 non-null  object \n",
      " 12  neighbourhood                279599 non-null  object \n",
      " 13  district                     279599 non-null  object \n",
      " 14  city                         279599 non-null  object \n",
      " 15  latitude                     279599 non-null  float64\n",
      " 16  longitude                    279599 non-null  float64\n",
      " 17  property_type                279599 non-null  object \n",
      " 18  room_type                    279599 non-null  object \n",
      " 19  accommodates                 279599 non-null  int64  \n",
      " 20  bedrooms                     279599 non-null  float64\n",
      " 21  amenities                    279599 non-null  object \n",
      " 22  price                        279599 non-null  int64  \n",
      " 23  minimum_nights               279599 non-null  int64  \n",
      " 24  maximum_nights               279599 non-null  int64  \n",
      " 25  review_scores_rating         279599 non-null  float64\n",
      " 26  review_scores_accuracy       279599 non-null  float64\n",
      " 27  review_scores_cleanliness    279599 non-null  float64\n",
      " 28  review_scores_checkin        279599 non-null  float64\n",
      " 29  review_scores_communication  279599 non-null  float64\n",
      " 30  review_scores_location       279599 non-null  float64\n",
      " 31  review_scores_value          279599 non-null  float64\n",
      " 32  instant_bookable             279599 non-null  object \n",
      "dtypes: float64(13), int64(6), object(14)\n",
      "memory usage: 70.4+ MB\n"
     ]
    }
   ],
   "source": [
    "#check how many rows left\n",
    "\n",
    "df.info()"
   ]
  },
  {
   "cell_type": "markdown",
   "metadata": {},
   "source": [
    "We are working now with 279598 records. "
   ]
  },
  {
   "cell_type": "markdown",
   "metadata": {},
   "source": [
    "Next step in our transformation phase is converting the data types to the proper format."
   ]
  },
  {
   "cell_type": "code",
   "execution_count": 89,
   "metadata": {},
   "outputs": [
    {
     "data": {
      "text/plain": [
       "listing_id                       int64\n",
       "name                            object\n",
       "host_id                          int64\n",
       "host_since                      object\n",
       "host_location                   object\n",
       "host_response_time              object\n",
       "host_response_rate             float64\n",
       "host_acceptance_rate           float64\n",
       "host_is_superhost               object\n",
       "host_total_listings_count      float64\n",
       "host_has_profile_pic            object\n",
       "host_identity_verified          object\n",
       "neighbourhood                   object\n",
       "district                        object\n",
       "city                            object\n",
       "latitude                       float64\n",
       "longitude                      float64\n",
       "property_type                   object\n",
       "room_type                       object\n",
       "accommodates                     int64\n",
       "bedrooms                       float64\n",
       "amenities                       object\n",
       "price                            int64\n",
       "minimum_nights                   int64\n",
       "maximum_nights                   int64\n",
       "review_scores_rating           float64\n",
       "review_scores_accuracy         float64\n",
       "review_scores_cleanliness      float64\n",
       "review_scores_checkin          float64\n",
       "review_scores_communication    float64\n",
       "review_scores_location         float64\n",
       "review_scores_value            float64\n",
       "instant_bookable                object\n",
       "dtype: object"
      ]
     },
     "execution_count": 89,
     "metadata": {},
     "output_type": "execute_result"
    }
   ],
   "source": [
    "#view df data types\n",
    "\n",
    "df.dtypes"
   ]
  },
  {
   "cell_type": "markdown",
   "metadata": {},
   "source": [
    "Let's plan our next steps in the process of data type changes. This way we don't miss anything. \n",
    "\n",
    "Some observations are for the following step which is to normalize data, more specifically to standardize data."
   ]
  },
  {
   "cell_type": "code",
   "execution_count": 90,
   "metadata": {},
   "outputs": [],
   "source": [
    "# listing_id                       int64  - ok, no change needed \n",
    "# name                            object  - ok \n",
    "# host_id                          int64  - ok\n",
    "# host_since                      object  - change to datatime \n",
    "# host_location                   object  - ok \n",
    "# host_response_time              object  - ok\n",
    "# host_response_rate             float64  - ok\n",
    "# host_acceptance_rate           float64  - ok\n",
    "# host_is_superhost               object  - change to int, transform t=1 and f=0\n",
    "# host_total_listings_count      float64  - change to int, no floating values \n",
    "# host_has_profile_pic            object  - change to int, transform t=1 and f=0\n",
    "# host_identity_verified          object  - change to int, transform t=1 and f=0\n",
    "# neighbourhood                   object  - ok\n",
    "# district                        object  - ok\n",
    "# city                            object  - ok\n",
    "# latitude                       float64  - ok\n",
    "# longitude                      float64  - ok\n",
    "# property_type                   object  - ok\n",
    "# room_type                       object  - ok\n",
    "# accommodates                     int64  - ok\n",
    "# bedrooms                       float64  - ok\n",
    "# amenities                       object  - (see below) \n",
    "# price                            int64  - (see below)\n",
    "# minimum_nights                   int64  - ok\n",
    "# maximum_nights                   int64  - ok\n",
    "# review_scores_rating           float64  - ok\n",
    "# review_scores_accuracy         float64  - ok\n",
    "# review_scores_cleanliness      float64  - ok\n",
    "# review_scores_checkin          float64  - ok\n",
    "# review_scores_communication    float64  - ok\n",
    "# review_scores_location         float64  - ok\n",
    "# review_scores_value            float64  - ok\n",
    "# instant_bookable                object  - change to int, transform t=1 and f=0"
   ]
  },
  {
   "cell_type": "code",
   "execution_count": 91,
   "metadata": {},
   "outputs": [],
   "source": [
    "#first dtype change for column host_since from object to datetime \n",
    "\n",
    "df['host_since'] = pd.to_datetime(df['host_since'])"
   ]
  },
  {
   "cell_type": "code",
   "execution_count": 92,
   "metadata": {},
   "outputs": [
    {
     "data": {
      "text/plain": [
       "dtype('<M8[ns]')"
      ]
     },
     "execution_count": 92,
     "metadata": {},
     "output_type": "execute_result"
    }
   ],
   "source": [
    "#check dtype after change \n",
    "\n",
    "df['host_since'].dtypes"
   ]
  },
  {
   "cell_type": "code",
   "execution_count": 93,
   "metadata": {},
   "outputs": [
    {
     "data": {
      "text/plain": [
       "True"
      ]
     },
     "execution_count": 93,
     "metadata": {},
     "output_type": "execute_result"
    }
   ],
   "source": [
    "#verification step\n",
    "\n",
    "np.dtype('datetime64[ns]') == np.dtype('<M8[ns]') "
   ]
  },
  {
   "cell_type": "code",
   "execution_count": 94,
   "metadata": {},
   "outputs": [],
   "source": [
    "#we'll use replace method instead of get_dummies to \n",
    "\n",
    "df['host_is_superhost'] = df['host_is_superhost'].replace('f',0)\n",
    "df['host_is_superhost'] = df['host_is_superhost'].replace('t',1)"
   ]
  },
  {
   "cell_type": "code",
   "execution_count": 95,
   "metadata": {},
   "outputs": [
    {
     "data": {
      "text/plain": [
       "0    229350\n",
       "1     50249\n",
       "Name: host_is_superhost, dtype: int64"
      ]
     },
     "execution_count": 95,
     "metadata": {},
     "output_type": "execute_result"
    }
   ],
   "source": [
    "#verification step\n",
    "\n",
    "df['host_is_superhost'].value_counts()"
   ]
  },
  {
   "cell_type": "code",
   "execution_count": 96,
   "metadata": {},
   "outputs": [
    {
     "data": {
      "text/plain": [
       "dtype('int64')"
      ]
     },
     "execution_count": 96,
     "metadata": {},
     "output_type": "execute_result"
    }
   ],
   "source": [
    "#check data type is correct\n",
    "\n",
    "df['host_is_superhost'].dtype"
   ]
  },
  {
   "cell_type": "code",
   "execution_count": 97,
   "metadata": {},
   "outputs": [],
   "source": [
    "#change from float to int host_total_listings_count\n",
    "\n",
    "df['host_total_listings_count'] = df['host_total_listings_count'].astype(int)"
   ]
  },
  {
   "cell_type": "code",
   "execution_count": 98,
   "metadata": {},
   "outputs": [
    {
     "data": {
      "text/plain": [
       "dtype('int32')"
      ]
     },
     "execution_count": 98,
     "metadata": {},
     "output_type": "execute_result"
    }
   ],
   "source": [
    "#verification step\n",
    "\n",
    "df['host_total_listings_count'].dtype"
   ]
  },
  {
   "cell_type": "code",
   "execution_count": 99,
   "metadata": {},
   "outputs": [],
   "source": [
    "# transform host_has_profile_pic into int by replacing 't' with 1 and 'f' with 0 \n",
    "\n",
    "df['host_has_profile_pic'] = df['host_has_profile_pic'].replace('f',0)\n",
    "df['host_has_profile_pic'] = df['host_has_profile_pic'].replace('t',1)"
   ]
  },
  {
   "cell_type": "code",
   "execution_count": 100,
   "metadata": {},
   "outputs": [
    {
     "data": {
      "text/plain": [
       "1    278696\n",
       "0       903\n",
       "Name: host_has_profile_pic, dtype: int64"
      ]
     },
     "execution_count": 100,
     "metadata": {},
     "output_type": "execute_result"
    }
   ],
   "source": [
    "#verification step \n",
    "\n",
    "df['host_has_profile_pic'].value_counts()"
   ]
  },
  {
   "cell_type": "code",
   "execution_count": 101,
   "metadata": {},
   "outputs": [
    {
     "data": {
      "text/plain": [
       "dtype('int64')"
      ]
     },
     "execution_count": 101,
     "metadata": {},
     "output_type": "execute_result"
    }
   ],
   "source": [
    "#check data type \n",
    "\n",
    "df['host_has_profile_pic'].dtype"
   ]
  },
  {
   "cell_type": "code",
   "execution_count": 102,
   "metadata": {},
   "outputs": [],
   "source": [
    "#we repeat the same steps for host_identity_verified \n",
    "\n",
    "df['host_identity_verified'] = df['host_identity_verified'].replace('f',0)\n",
    "df['host_identity_verified'] = df['host_identity_verified'].replace('t',1)"
   ]
  },
  {
   "cell_type": "code",
   "execution_count": 103,
   "metadata": {},
   "outputs": [
    {
     "data": {
      "text/plain": [
       "1    201263\n",
       "0     78336\n",
       "Name: host_identity_verified, dtype: int64"
      ]
     },
     "execution_count": 103,
     "metadata": {},
     "output_type": "execute_result"
    }
   ],
   "source": [
    "#verification step\n",
    "\n",
    "df['host_identity_verified'].value_counts()"
   ]
  },
  {
   "cell_type": "code",
   "execution_count": 104,
   "metadata": {},
   "outputs": [
    {
     "data": {
      "text/plain": [
       "dtype('int64')"
      ]
     },
     "execution_count": 104,
     "metadata": {},
     "output_type": "execute_result"
    }
   ],
   "source": [
    "#check data type is correct\n",
    "\n",
    "df['host_identity_verified'].dtype"
   ]
  },
  {
   "cell_type": "code",
   "execution_count": 105,
   "metadata": {},
   "outputs": [],
   "source": [
    "#repeat steps for instant_bookable\n",
    "\n",
    "df['instant_bookable'] = df['instant_bookable'].replace('f',0)\n",
    "df['instant_bookable'] = df['instant_bookable'].replace('t',1)"
   ]
  },
  {
   "cell_type": "code",
   "execution_count": 106,
   "metadata": {},
   "outputs": [
    {
     "data": {
      "text/plain": [
       "0    163992\n",
       "1    115607\n",
       "Name: instant_bookable, dtype: int64"
      ]
     },
     "execution_count": 106,
     "metadata": {},
     "output_type": "execute_result"
    }
   ],
   "source": [
    "#verification step\n",
    "\n",
    "df['instant_bookable'].value_counts()"
   ]
  },
  {
   "cell_type": "code",
   "execution_count": 107,
   "metadata": {},
   "outputs": [
    {
     "data": {
      "text/plain": [
       "dtype('int64')"
      ]
     },
     "execution_count": 107,
     "metadata": {},
     "output_type": "execute_result"
    }
   ],
   "source": [
    "#check data type is correct\n",
    "\n",
    "df['instant_bookable'].dtype"
   ]
  },
  {
   "cell_type": "markdown",
   "metadata": {},
   "source": [
    "The wrangling process is not completed 100% due to 2 remaining task: \n",
    "\n",
    "1. amenities column contains as cell values lists with the amenities, which I need to transform\n",
    "2. price column contains values in local currency, which I need to standardize by transforming it to only 1 currency (USD)"
   ]
  },
  {
   "cell_type": "markdown",
   "metadata": {},
   "source": [
    "Until I find the solution for these 2 steps, I will export the work completed so far into a new csv file to save all the changes made and not re-run all commands until now with every start. "
   ]
  },
  {
   "cell_type": "code",
   "execution_count": 126,
   "metadata": {},
   "outputs": [],
   "source": [
    "#send df to csv\n",
    "\n",
    "df.to_csv(r'C:\\\\Users\\Domnica Maria\\Documents\\1. PROJECTS\\Maven-Vacation-Challenge\\Airbnb-dataset.csv')"
   ]
  },
  {
   "cell_type": "markdown",
   "metadata": {},
   "source": [
    "... **to be continued** \n",
    "\n",
    "see Jupyter Notebook 3"
   ]
  }
 ],
 "metadata": {
  "kernelspec": {
   "display_name": "Python 3",
   "language": "python",
   "name": "python3"
  },
  "language_info": {
   "codemirror_mode": {
    "name": "ipython",
    "version": 3
   },
   "file_extension": ".py",
   "mimetype": "text/x-python",
   "name": "python",
   "nbconvert_exporter": "python",
   "pygments_lexer": "ipython3",
   "version": "3.8.5"
  }
 },
 "nbformat": 4,
 "nbformat_minor": 4
}
